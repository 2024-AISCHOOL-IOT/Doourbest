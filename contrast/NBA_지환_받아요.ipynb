{
 "cells": [
  {
   "cell_type": "code",
   "execution_count": 75,
   "id": "d4c77981-192c-43d9-bde4-61a0ecedbc98",
   "metadata": {},
   "outputs": [],
   "source": [
    "import pandas as pd\n",
    "import requests\n",
    "pd.set_option('display.max_columns', None)\n",
    "import time\n",
    "import numpy as np"
   ]
  },
  {
   "cell_type": "code",
   "execution_count": 77,
   "id": "c1911b9a-657b-4a5d-b89a-8c4062253d64",
   "metadata": {},
   "outputs": [],
   "source": [
    "test_url = 'https://cdn.nba.com/static/json/VEGAS/liveData/boxscore/boxscore_1522400076.json'"
   ]
  },
  {
   "cell_type": "code",
   "execution_count": 79,
   "id": "61b84058-071b-41b7-8482-565bfe780b25",
   "metadata": {},
   "outputs": [],
   "source": [
    "r = requests.get(url=test_url).json()"
   ]
  },
  {
   "cell_type": "code",
   "execution_count": 81,
   "id": "e98a7c5f-6883-4e08-b53e-c7b414f7cf2a",
   "metadata": {
    "scrolled": true
   },
   "outputs": [
    {
     "data": {
      "text/plain": [
       "[{'period': 1, 'periodType': 'REGULAR', 'score': 24},\n",
       " {'period': 2, 'periodType': 'REGULAR', 'score': 30},\n",
       " {'period': 3, 'periodType': 'REGULAR', 'score': 16},\n",
       " {'period': 4, 'periodType': 'REGULAR', 'score': 0}]"
      ]
     },
     "execution_count": 81,
     "metadata": {},
     "output_type": "execute_result"
    }
   ],
   "source": [
    "r['game']['homeTeam']['periods']\n"
   ]
  },
  {
   "cell_type": "code",
   "execution_count": 83,
   "id": "30320229-5611-4cb6-a2ef-5e954203f5b5",
   "metadata": {},
   "outputs": [
    {
     "data": {
      "text/plain": [
       "[{'period': 1, 'periodType': 'REGULAR', 'score': 25},\n",
       " {'period': 2, 'periodType': 'REGULAR', 'score': 32},\n",
       " {'period': 3, 'periodType': 'REGULAR', 'score': 18},\n",
       " {'period': 4, 'periodType': 'REGULAR', 'score': 0}]"
      ]
     },
     "execution_count": 83,
     "metadata": {},
     "output_type": "execute_result"
    }
   ],
   "source": [
    "r['game']['awayTeam']['periods']"
   ]
  },
  {
   "cell_type": "code",
   "execution_count": null,
   "id": "f856962b-6bbd-4a99-932b-2759d9dfd1c4",
   "metadata": {},
   "outputs": [],
   "source": []
  }
 ],
 "metadata": {
  "kernelspec": {
   "display_name": "Python 3 (ipykernel)",
   "language": "python",
   "name": "python3"
  },
  "language_info": {
   "codemirror_mode": {
    "name": "ipython",
    "version": 3
   },
   "file_extension": ".py",
   "mimetype": "text/x-python",
   "name": "python",
   "nbconvert_exporter": "python",
   "pygments_lexer": "ipython3",
   "version": "3.11.7"
  }
 },
 "nbformat": 4,
 "nbformat_minor": 5
}
