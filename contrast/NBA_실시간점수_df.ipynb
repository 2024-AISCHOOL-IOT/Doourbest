{
 "cells": [
  {
   "cell_type": "code",
   "execution_count": 1,
   "id": "d4c77981-192c-43d9-bde4-61a0ecedbc98",
   "metadata": {},
   "outputs": [],
   "source": [
    "import numpy as np\n",
    "import pandas as pd\n",
    "import requests\n",
    "pd.set_option('display.max_columns', None)\n",
    "import time"
   ]
  },
  {
   "cell_type": "code",
   "execution_count": 2,
   "id": "c1911b9a-657b-4a5d-b89a-8c4062253d64",
   "metadata": {},
   "outputs": [],
   "source": [
    "test_url = 'https://cdn.nba.com/static/json/VEGAS/liveData/boxscore/boxscore_1522400076.json'"
   ]
  },
  {
   "cell_type": "code",
   "execution_count": 3,
   "id": "61b84058-071b-41b7-8482-565bfe780b25",
   "metadata": {},
   "outputs": [],
   "source": [
    "r = requests.get(url=test_url).json()"
   ]
  },
  {
   "cell_type": "code",
   "execution_count": 43,
   "id": "e98a7c5f-6883-4e08-b53e-c7b414f7cf2a",
   "metadata": {
    "scrolled": true
   },
   "outputs": [
    {
     "data": {
      "text/plain": [
       "[{'period': 1, 'periodType': 'REGULAR', 'score': 24},\n",
       " {'period': 2, 'periodType': 'REGULAR', 'score': 30},\n",
       " {'period': 3, 'periodType': 'REGULAR', 'score': 33},\n",
       " {'period': 4, 'periodType': 'REGULAR', 'score': 2}]"
      ]
     },
     "execution_count": 43,
     "metadata": {},
     "output_type": "execute_result"
    }
   ],
   "source": [
    "linescores_homeTeam_lst = r['game']['homeTeam']['periods']\n",
    "\n",
    "linescores_homeTeam_df=period_periodType_score(linescores_homeTeam_lst)\n",
    "linescores_homeTeam_df"
   ]
  },
  {
   "cell_type": "code",
   "execution_count": 39,
   "id": "30320229-5611-4cb6-a2ef-5e954203f5b5",
   "metadata": {},
   "outputs": [
    {
     "data": {
      "text/html": [
       "<div>\n",
       "<style scoped>\n",
       "    .dataframe tbody tr th:only-of-type {\n",
       "        vertical-align: middle;\n",
       "    }\n",
       "\n",
       "    .dataframe tbody tr th {\n",
       "        vertical-align: top;\n",
       "    }\n",
       "\n",
       "    .dataframe thead th {\n",
       "        text-align: right;\n",
       "    }\n",
       "</style>\n",
       "<table border=\"1\" class=\"dataframe\">\n",
       "  <thead>\n",
       "    <tr style=\"text-align: right;\">\n",
       "      <th></th>\n",
       "      <th>period</th>\n",
       "      <th>periodType</th>\n",
       "      <th>score</th>\n",
       "    </tr>\n",
       "  </thead>\n",
       "  <tbody>\n",
       "    <tr>\n",
       "      <th>0</th>\n",
       "      <td>1</td>\n",
       "      <td>REGULAR</td>\n",
       "      <td>25</td>\n",
       "    </tr>\n",
       "    <tr>\n",
       "      <th>1</th>\n",
       "      <td>2</td>\n",
       "      <td>REGULAR</td>\n",
       "      <td>32</td>\n",
       "    </tr>\n",
       "    <tr>\n",
       "      <th>2</th>\n",
       "      <td>3</td>\n",
       "      <td>REGULAR</td>\n",
       "      <td>37</td>\n",
       "    </tr>\n",
       "    <tr>\n",
       "      <th>3</th>\n",
       "      <td>4</td>\n",
       "      <td>REGULAR</td>\n",
       "      <td>2</td>\n",
       "    </tr>\n",
       "  </tbody>\n",
       "</table>\n",
       "</div>"
      ],
      "text/plain": [
       "   period periodType  score\n",
       "0       1    REGULAR     25\n",
       "1       2    REGULAR     32\n",
       "2       3    REGULAR     37\n",
       "3       4    REGULAR      2"
      ]
     },
     "execution_count": 39,
     "metadata": {},
     "output_type": "execute_result"
    }
   ],
   "source": [
    "linescores_awayTeam = r['game']['awayTeam']['periods']\n",
    "linescores_awayTeam_df=period_periodType_score(linescores_awayTeam)\n",
    "linescores_awayTeam_df"
   ]
  },
  {
   "cell_type": "code",
   "execution_count": 35,
   "id": "f856962b-6bbd-4a99-932b-2759d9dfd1c4",
   "metadata": {},
   "outputs": [],
   "source": [
    "def period_periodType_score(linescores_lst):\n",
    "    period=[]\n",
    "    periodType=[]\n",
    "    score=[]\n",
    "    for dict in linescores_lst:\n",
    "        period.append(dict['period'])\n",
    "        periodType.append(dict['periodType'])\n",
    "        score.append(dict['score'])\n",
    "    # print(period)\n",
    "    # print(periodType)\n",
    "    # print(score)\n",
    "    return pd.DataFrame({'period':period,\n",
    "                                        'periodType':periodType,\n",
    "                                        'score':score},)"
   ]
  }
 ],
 "metadata": {
  "kernelspec": {
   "display_name": "Python 3 (ipykernel)",
   "language": "python",
   "name": "python3"
  },
  "language_info": {
   "codemirror_mode": {
    "name": "ipython",
    "version": 3
   },
   "file_extension": ".py",
   "mimetype": "text/x-python",
   "name": "python",
   "nbconvert_exporter": "python",
   "pygments_lexer": "ipython3",
   "version": "3.12.4"
  }
 },
 "nbformat": 4,
 "nbformat_minor": 5
}
