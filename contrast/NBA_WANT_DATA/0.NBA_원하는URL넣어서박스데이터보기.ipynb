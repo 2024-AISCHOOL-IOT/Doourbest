{
 "cells": [
  {
   "cell_type": "code",
   "execution_count": 1,
   "id": "e5cdfc4d-4903-4344-b2fb-e0bd8e0b2cdc",
   "metadata": {},
   "outputs": [],
   "source": [
    "from NBA_Function_ import fetch_nba_data\n",
    "import pandas as pd\n",
    "pd.set_option('display.max_columns', None)"
   ]
  },
  {
   "cell_type": "code",
   "execution_count": 2,
   "id": "bec2a1ce-0c9f-462b-9dae-8778aa464328",
   "metadata": {
    "scrolled": true
   },
   "outputs": [
    {
     "name": "stdout",
     "output_type": "stream",
     "text": [
      "조회한 쿼터는 Q1입니다\n"
     ]
    },
    {
     "data": {
      "text/plain": [
       "[('Golden State Warriors',\n",
       "                                     PLAYER   MIN FGM FGA   FG% 3PM 3PA   3P%  \\\n",
       "  0              Justinian JessupJ. JessupF  6:31   1   3  33.3   1   3  33.3   \n",
       "  1                    Gui SantosG. SantosF  5:02   1   2  50.0   1   1   100   \n",
       "  2                   Dustin SlevaD. SlevaC  5:02   0   0   0.0   0   0   0.0   \n",
       "  3                    Moses MoodyM. MoodyG  7:53   3   4  75.0   1   2  50.0   \n",
       "  4  Quinndary WeatherspoonQ. WeatherspoonG  6:01   1   2  50.0   0   0   0.0   \n",
       "  5              Lester QuinonesL. Quinones  6:06   0   1   0.0   0   0   0.0   \n",
       "  6                  Payton WillisP. Willis  4:58   0   0   0.0   0   0   0.0   \n",
       "  7     Gabriel ChachashviliG. Chachashvili  4:58   1   2  50.0   0   1   0.0   \n",
       "  8                   Kalob LedouxK. Ledoux  3:29   0   0   0.0   0   0   0.0   \n",
       "  9                                  TOTALS         7  14  50.0   3   7  42.9   \n",
       "  \n",
       "    FTM FTA  FT% OREB DREB REB AST STL BLK TO PF PTS +/-  \n",
       "  0   0   0  0.0    0    1   1   0   0   0  0  0   3   2  \n",
       "  1   0   0  0.0    0    0   0   1   0   0  0  0   3  -3  \n",
       "  2   2   2  100    1    0   1   3   0   1  1  3   2  -3  \n",
       "  3   1   1  100    0    0   0   1   1   1  1  1   8  -2  \n",
       "  4   2   2  100    0    1   1   1   0   0  3  1   4  -5  \n",
       "  5   0   0  0.0    0    2   2   0   0   0  0  0   0  -3  \n",
       "  6   0   0  0.0    0    0   0   0   0   0  1  0   0  -2  \n",
       "  7   0   0  0.0    1    1   2   0   1   1  0  0   2  -2  \n",
       "  8   0   0  0.0    0    0   0   0   0   0  0  1   0  -7  \n",
       "  9   5   5  100    2    5   7   6   2   3  6  6  22  -5  ),\n",
       " ('Miami Heat',\n",
       "                             PLAYER    MIN FGM FGA   FG% 3PM 3PA   3P% FTM FTA  \\\n",
       "  0           Nikola JovicN. JovicF   6:47   1   4  25.0   1   1   100   0   0   \n",
       "  1  Haywood HighsmithH. HighsmithF   8:55   1   2  50.0   1   2  50.0   0   0   \n",
       "  2    Orlando RobinsonO. RobinsonC   5:02   1   1   100   0   0   0.0   0   0   \n",
       "  3         Mychal MulderM. MulderG  10:00   3   6  50.0   3   5  60.0   0   0   \n",
       "  4   Kyle Allman Jr.K. Allman Jr.G   6:31   1   4  25.0   0   1   0.0   0   0   \n",
       "  5      Bryson WilliamsB. Williams   4:58   1   3  33.3   0   0   0.0   0   0   \n",
       "  6           Jalen AdawayJ. Adaway   4:18   2   3  66.7   0   0   0.0   0   0   \n",
       "  7         Jamaree BouyeaJ. Bouyea   3:29   1   2  50.0   0   1   0.0   0   1   \n",
       "  8                          TOTALS         11  25  44.0   5  10  50.0   0   1   \n",
       "  \n",
       "     FT% OREB DREB REB AST STL BLK TO PF PTS +/-  \n",
       "  0  0.0    3    0   3   0   0   0  2  0   3   3  \n",
       "  1  0.0    0    0   0   0   0   0  1  1   3   5  \n",
       "  2  0.0    1    2   3   0   0   1  0  2   2   3  \n",
       "  3  0.0    0    1   1   0   0   0  0  0   9   5  \n",
       "  4  0.0    0    0   0   4   0   0  0  0   2  -2  \n",
       "  5  0.0    2    0   2   0   1   1  0  1   2   2  \n",
       "  6  0.0    2    0   2   0   0   0  0  0   4   2  \n",
       "  7  0.0    0    1   1   2   0   0  0  0   2   7  \n",
       "  8  0.0    8    4  12   6   1   2  3  4  27   5  )]"
      ]
     },
     "metadata": {},
     "output_type": "display_data"
    }
   ],
   "source": [
    "base_url = 'https://www.nba.com/game/gsw-vs-mia-1322200005/box-score'\n",
    "test = fetch_nba_data(base_url,'Q1')\n",
    "display(test[0][1])"
   ]
  }
 ],
 "metadata": {
  "kernelspec": {
   "display_name": "Python 3 (ipykernel)",
   "language": "python",
   "name": "python3"
  },
  "language_info": {
   "codemirror_mode": {
    "name": "ipython",
    "version": 3
   },
   "file_extension": ".py",
   "mimetype": "text/x-python",
   "name": "python",
   "nbconvert_exporter": "python",
   "pygments_lexer": "ipython3",
   "version": "3.9.19"
  }
 },
 "nbformat": 4,
 "nbformat_minor": 5
}
