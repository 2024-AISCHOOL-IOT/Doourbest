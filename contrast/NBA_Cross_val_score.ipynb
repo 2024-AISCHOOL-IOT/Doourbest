{
 "cells": [
  {
   "cell_type": "markdown",
   "id": "4fe42326-5528-42cd-97f0-b3f70d504619",
   "metadata": {},
   "source": [
    " # 교차검증\n",
    "  - cross_val_score"
   ]
  },
  {
   "cell_type": "code",
   "execution_count": 5,
   "id": "9d23aa3f-619b-443c-90a9-295514d97c79",
   "metadata": {},
   "outputs": [
    {
     "name": "stdout",
     "output_type": "stream",
     "text": [
      "교차 검증 점수: [0.76300306 0.74788136 0.77048023 0.7547081  0.75729755]\n",
      "평균 교차 검증 점수: 0.758674058236368\n",
      "테스트 세트 정확도: 0.7550367162492939\n"
     ]
    }
   ],
   "source": [
    "import pandas as pd\n",
    "from sklearn.model_selection import train_test_split, cross_val_score\n",
    "from sklearn.ensemble import RandomForestClassifier\n",
    "from sklearn.metrics import accuracy_score\n",
    "\n",
    "# 데이터 불러오기\n",
    "file_path = '../data/example.csv'\n",
    "data = pd.read_csv(file_path)\n",
    "\n",
    "# 필요한 열 선택 (예: 팀 통계 및 결과)\n",
    "features = data[['FG_PCT_home',\n",
    "                 'FG_PCT_away']]\n",
    "target = data['HOME_TEAM_WINS']\n",
    "\n",
    "# 데이터를 학습용과 테스트용으로 분리\n",
    "X_train, X_test, y_train, y_test = train_test_split(features, target, test_size=0.2, random_state=42)\n",
    "\n",
    "# 랜덤 포레스트 모델 초기화\n",
    "model = RandomForestClassifier(random_state=42)\n",
    "\n",
    "# 교차 검증 수행\n",
    "scores = cross_val_score(model, X_train, y_train, cv=5)\n",
    "\n",
    "# 모델 학습\n",
    "model.fit(X_train, y_train)\n",
    "\n",
    "# 예측 수행\n",
    "y_pred = model.predict(X_test)\n",
    "\n",
    "# 정확도 평가\n",
    "accuracy = accuracy_score(y_test, y_pred)\n",
    "\n",
    "# 결과 출력\n",
    "print(f\"교차 검증 점수: {scores}\")\n",
    "print(f\"평균 교차 검증 점수: {scores.mean()}\")\n",
    "print(f\"테스트 세트 정확도: {accuracy}\")\n"
   ]
  },
  {
   "cell_type": "code",
   "execution_count": 10,
   "id": "2141e4bb-e8c2-48fe-bb74-5fa1592474ef",
   "metadata": {
    "scrolled": true
   },
   "outputs": [
    {
     "name": "stdout",
     "output_type": "stream",
     "text": [
      "교차 검증 점수: [0.75023533 0.77526679 0.75737602 0.75957313 0.74450722]\n",
      "평균 교차 검증 점수: 0.7573916989748254\n",
      "테스트 세트 정확도: 0.7574616326146314\n"
     ]
    }
   ],
   "source": [
    "import pandas as pd\n",
    "from sklearn.model_selection import train_test_split, cross_val_score\n",
    "from sklearn.ensemble import RandomForestClassifier\n",
    "from sklearn.metrics import accuracy_score\n",
    "\n",
    "# 데이터 불러오기\n",
    "file_path = '../data/example.csv'\n",
    "data = pd.read_csv(file_path)\n",
    "\n",
    "# 필요한 열 선택 (예: 팀 통계 및 결과)\n",
    "features = data[['FG_PCT_home',\n",
    "                 'FG_PCT_away']]\n",
    "target = data['HOME_TEAM_WINS']\n",
    "\n",
    "# 데이터를 학습용과 테스트용으로 분리\n",
    "X_train, X_test, y_train, y_test = train_test_split(features, target, test_size=0.4, random_state=42)\n",
    "\n",
    "# 랜덤 포레스트 모델 초기화\n",
    "model = RandomForestClassifier(random_state=42)\n",
    "\n",
    "# 교차 검증 수행\n",
    "scores = cross_val_score(model, X_train, y_train, cv=5)\n",
    "\n",
    "# 모델 학습\n",
    "model.fit(X_train, y_train)\n",
    "\n",
    "# 예측 수행\n",
    "y_pred = model.predict(X_test)\n",
    "\n",
    "# 정확도 평가\n",
    "accuracy = accuracy_score(y_test, y_pred)\n",
    "\n",
    "# 결과 출력\n",
    "print(f\"교차 검증 점수: {scores}\")\n",
    "print(f\"평균 교차 검증 점수: {scores.mean()}\")\n",
    "print(f\"테스트 세트 정확도: {accuracy}\")\n"
   ]
  },
  {
   "cell_type": "markdown",
   "id": "a3d6f3a3-afa1-4227-8b8e-62beaa4a3a37",
   "metadata": {},
   "source": [
    "# 가장 높은 cross_val_score (test_size=0.3)"
   ]
  },
  {
   "cell_type": "code",
   "execution_count": 12,
   "id": "51ea0924-e3fb-426e-b767-c55944fcec1a",
   "metadata": {},
   "outputs": [
    {
     "name": "stdout",
     "output_type": "stream",
     "text": [
      "교차 검증 점수: [0.75605164 0.76728545 0.76916868 0.75813828 0.75437181]\n",
      "평균 교차 검증 점수: 0.7610031718245538\n",
      "테스트 세트 정확도: 0.7573437107707758\n"
     ]
    }
   ],
   "source": [
    "import pandas as pd\n",
    "from sklearn.model_selection import train_test_split, cross_val_score\n",
    "from sklearn.ensemble import RandomForestClassifier\n",
    "from sklearn.metrics import accuracy_score\n",
    "\n",
    "# 데이터 불러오기\n",
    "file_path = '../data/example.csv'\n",
    "data = pd.read_csv(file_path)\n",
    "\n",
    "# 필요한 열 선택 (예: 팀 통계 및 결과)\n",
    "features = data[['FG_PCT_home',\n",
    "                 'FG_PCT_away']]\n",
    "target = data['HOME_TEAM_WINS']\n",
    "\n",
    "# 데이터를 학습용과 테스트용으로 분리\n",
    "X_train, X_test, y_train, y_test = train_test_split(features, target, test_size=0.3, random_state=42)\n",
    "\n",
    "# 랜덤 포레스트 모델 초기화\n",
    "model = RandomForestClassifier(random_state=42)\n",
    "\n",
    "# 교차 검증 수행\n",
    "scores = cross_val_score(model, X_train, y_train, cv=5)\n",
    "\n",
    "# 모델 학습\n",
    "model.fit(X_train, y_train)\n",
    "\n",
    "# 예측 수행\n",
    "y_pred = model.predict(X_test)\n",
    "\n",
    "# 정확도 평가\n",
    "accuracy = accuracy_score(y_test, y_pred)\n",
    "\n",
    "# 결과 출력\n",
    "print(f\"교차 검증 점수: {scores}\")\n",
    "print(f\"평균 교차 검증 점수: {scores.mean()}\")\n",
    "print(f\"테스트 세트 정확도: {accuracy}\")\n"
   ]
  },
  {
   "cell_type": "code",
   "execution_count": null,
   "id": "4f137bda-ae9d-4cb7-980b-0ad910287547",
   "metadata": {},
   "outputs": [],
   "source": []
  },
  {
   "cell_type": "code",
   "execution_count": null,
   "id": "2bd0e182-e151-4bd8-ae5e-5cf7d651258f",
   "metadata": {},
   "outputs": [],
   "source": []
  }
 ],
 "metadata": {
  "kernelspec": {
   "display_name": "Python 3 (ipykernel)",
   "language": "python",
   "name": "python3"
  },
  "language_info": {
   "codemirror_mode": {
    "name": "ipython",
    "version": 3
   },
   "file_extension": ".py",
   "mimetype": "text/x-python",
   "name": "python",
   "nbconvert_exporter": "python",
   "pygments_lexer": "ipython3",
   "version": "3.11.7"
  }
 },
 "nbformat": 4,
 "nbformat_minor": 5
}
