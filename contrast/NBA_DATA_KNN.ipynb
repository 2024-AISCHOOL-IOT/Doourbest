{
 "cells": [
  {
   "cell_type": "code",
   "execution_count": 15,
   "id": "0b3e7919-b490-4659-b2d1-677861d99363",
   "metadata": {},
   "outputs": [],
   "source": [
    "# 환경셋팅\n",
    "import numpy as np\n",
    "import pandas as pd\n",
    "import matplotlib.pyplot as plt\n",
    "from sklearn.model_selection import train_test_split, GridSearchCV\n",
    "from sklearn.neighbors import KNeighborsClassifier  # knn 분류 모델\n",
    "from sklearn.metrics import accuracy_score\n",
    "from sklearn.model_selection import cross_val_score\n",
    "# pd.set_option('display.max_columns',None)\n",
    "# pd.set_option('display.max_rows',None)"
   ]
  },
  {
   "cell_type": "code",
   "execution_count": 2,
   "id": "09672778-2a52-45f5-b7ad-0551c3e0e171",
   "metadata": {},
   "outputs": [
    {
     "name": "stdout",
     "output_type": "stream",
     "text": [
      "<class 'pandas.core.frame.DataFrame'>\n",
      "RangeIndex: 26651 entries, 0 to 26650\n",
      "Data columns (total 21 columns):\n",
      " #   Column            Non-Null Count  Dtype  \n",
      "---  ------            --------------  -----  \n",
      " 0   GAME_DATE_EST     26651 non-null  object \n",
      " 1   GAME_ID           26651 non-null  int64  \n",
      " 2   GAME_STATUS_TEXT  26651 non-null  object \n",
      " 3   HOME_TEAM_ID      26651 non-null  int64  \n",
      " 4   VISITOR_TEAM_ID   26651 non-null  int64  \n",
      " 5   SEASON            26651 non-null  int64  \n",
      " 6   TEAM_ID_home      26651 non-null  int64  \n",
      " 7   PTS_home          26552 non-null  float64\n",
      " 8   FG_PCT_home       26552 non-null  float64\n",
      " 9   FT_PCT_home       26552 non-null  float64\n",
      " 10  FG3_PCT_home      26552 non-null  float64\n",
      " 11  AST_home          26552 non-null  float64\n",
      " 12  REB_home          26552 non-null  float64\n",
      " 13  TEAM_ID_away      26651 non-null  int64  \n",
      " 14  PTS_away          26552 non-null  float64\n",
      " 15  FG_PCT_away       26552 non-null  float64\n",
      " 16  FT_PCT_away       26552 non-null  float64\n",
      " 17  FG3_PCT_away      26552 non-null  float64\n",
      " 18  AST_away          26552 non-null  float64\n",
      " 19  REB_away          26552 non-null  float64\n",
      " 20  HOME_TEAM_WINS    26651 non-null  int64  \n",
      "dtypes: float64(12), int64(7), object(2)\n",
      "memory usage: 4.3+ MB\n"
     ]
    }
   ],
   "source": [
    "# 데이터를 불러와서 data 변수에 담기\n",
    "data = pd.read_csv('./archive/games.csv')\n",
    "# data.head()\n",
    "# 정보 확인\n",
    "data.info()"
   ]
  },
  {
   "cell_type": "code",
   "execution_count": 3,
   "id": "b1b16be4-4d8c-468c-9574-aa1c73ed26be",
   "metadata": {},
   "outputs": [
    {
     "data": {
      "text/plain": [
       "99"
      ]
     },
     "execution_count": 3,
     "metadata": {},
     "output_type": "execute_result"
    }
   ],
   "source": [
    "# 결측치 처리\n",
    "data['PTS_home'].isnull().sum()"
   ]
  },
  {
   "cell_type": "code",
   "execution_count": 4,
   "id": "b9956e6e-4c55-4109-a8f1-8f3d997c293b",
   "metadata": {},
   "outputs": [
    {
     "data": {
      "text/plain": [
       "PTS_home        99\n",
       "FG_PCT_home     99\n",
       "FT_PCT_home     99\n",
       "FG3_PCT_home    99\n",
       "AST_home        99\n",
       "REB_home        99\n",
       "dtype: int64"
      ]
     },
     "execution_count": 4,
     "metadata": {},
     "output_type": "execute_result"
    }
   ],
   "source": [
    "data[data['PTS_home'].isnull()][['PTS_home','FG_PCT_home','FT_PCT_home','FG3_PCT_home','AST_home','REB_home']].isna().sum()"
   ]
  },
  {
   "cell_type": "code",
   "execution_count": 5,
   "id": "5540deca-8dba-4a71-a58c-bb8733e328b1",
   "metadata": {},
   "outputs": [
    {
     "data": {
      "text/plain": [
       "GAME_DATE_EST       0\n",
       "GAME_ID             0\n",
       "GAME_STATUS_TEXT    0\n",
       "HOME_TEAM_ID        0\n",
       "VISITOR_TEAM_ID     0\n",
       "SEASON              0\n",
       "TEAM_ID_home        0\n",
       "PTS_home            0\n",
       "FG_PCT_home         0\n",
       "FT_PCT_home         0\n",
       "FG3_PCT_home        0\n",
       "AST_home            0\n",
       "REB_home            0\n",
       "TEAM_ID_away        0\n",
       "PTS_away            0\n",
       "FG_PCT_away         0\n",
       "FT_PCT_away         0\n",
       "FG3_PCT_away        0\n",
       "AST_away            0\n",
       "REB_away            0\n",
       "HOME_TEAM_WINS      0\n",
       "dtype: int64"
      ]
     },
     "execution_count": 5,
     "metadata": {},
     "output_type": "execute_result"
    }
   ],
   "source": [
    "data1 = data.dropna() # dropna(how = 'all') >> 모두 all이어야 날린다 , dropna(how = 'any') >> 하나라도 none 이면 날린다\n",
    "data1.isnull().sum()#data1.isnull().value_counts()???"
   ]
  },
  {
   "cell_type": "code",
   "execution_count": 6,
   "id": "b5d83635-8b72-42e3-a1b3-68aff74a20a7",
   "metadata": {},
   "outputs": [
    {
     "data": {
      "text/html": [
       "<div>\n",
       "<style scoped>\n",
       "    .dataframe tbody tr th:only-of-type {\n",
       "        vertical-align: middle;\n",
       "    }\n",
       "\n",
       "    .dataframe tbody tr th {\n",
       "        vertical-align: top;\n",
       "    }\n",
       "\n",
       "    .dataframe thead th {\n",
       "        text-align: right;\n",
       "    }\n",
       "</style>\n",
       "<table border=\"1\" class=\"dataframe\">\n",
       "  <thead>\n",
       "    <tr style=\"text-align: right;\">\n",
       "      <th></th>\n",
       "      <th>FG_PCT_home</th>\n",
       "      <th>FG_PCT_away</th>\n",
       "      <th>HOME_TEAM_WINS</th>\n",
       "    </tr>\n",
       "  </thead>\n",
       "  <tbody>\n",
       "    <tr>\n",
       "      <th>0</th>\n",
       "      <td>0.484</td>\n",
       "      <td>0.478</td>\n",
       "      <td>1</td>\n",
       "    </tr>\n",
       "    <tr>\n",
       "      <th>1</th>\n",
       "      <td>0.488</td>\n",
       "      <td>0.561</td>\n",
       "      <td>1</td>\n",
       "    </tr>\n",
       "    <tr>\n",
       "      <th>2</th>\n",
       "      <td>0.482</td>\n",
       "      <td>0.470</td>\n",
       "      <td>1</td>\n",
       "    </tr>\n",
       "    <tr>\n",
       "      <th>3</th>\n",
       "      <td>0.441</td>\n",
       "      <td>0.392</td>\n",
       "      <td>1</td>\n",
       "    </tr>\n",
       "    <tr>\n",
       "      <th>4</th>\n",
       "      <td>0.429</td>\n",
       "      <td>0.500</td>\n",
       "      <td>0</td>\n",
       "    </tr>\n",
       "    <tr>\n",
       "      <th>...</th>\n",
       "      <td>...</td>\n",
       "      <td>...</td>\n",
       "      <td>...</td>\n",
       "    </tr>\n",
       "    <tr>\n",
       "      <th>26646</th>\n",
       "      <td>0.419</td>\n",
       "      <td>0.366</td>\n",
       "      <td>1</td>\n",
       "    </tr>\n",
       "    <tr>\n",
       "      <th>26647</th>\n",
       "      <td>0.338</td>\n",
       "      <td>0.411</td>\n",
       "      <td>0</td>\n",
       "    </tr>\n",
       "    <tr>\n",
       "      <th>26648</th>\n",
       "      <td>0.448</td>\n",
       "      <td>0.387</td>\n",
       "      <td>1</td>\n",
       "    </tr>\n",
       "    <tr>\n",
       "      <th>26649</th>\n",
       "      <td>0.440</td>\n",
       "      <td>0.469</td>\n",
       "      <td>1</td>\n",
       "    </tr>\n",
       "    <tr>\n",
       "      <th>26650</th>\n",
       "      <td>0.431</td>\n",
       "      <td>0.462</td>\n",
       "      <td>0</td>\n",
       "    </tr>\n",
       "  </tbody>\n",
       "</table>\n",
       "<p>26552 rows × 3 columns</p>\n",
       "</div>"
      ],
      "text/plain": [
       "       FG_PCT_home  FG_PCT_away  HOME_TEAM_WINS\n",
       "0            0.484        0.478               1\n",
       "1            0.488        0.561               1\n",
       "2            0.482        0.470               1\n",
       "3            0.441        0.392               1\n",
       "4            0.429        0.500               0\n",
       "...            ...          ...             ...\n",
       "26646        0.419        0.366               1\n",
       "26647        0.338        0.411               0\n",
       "26648        0.448        0.387               1\n",
       "26649        0.440        0.469               1\n",
       "26650        0.431        0.462               0\n",
       "\n",
       "[26552 rows x 3 columns]"
      ]
     },
     "execution_count": 6,
     "metadata": {},
     "output_type": "execute_result"
    }
   ],
   "source": [
    "# 문제와 답 (열 분리)\n",
    "# 훈련셋과 테스트셋 분리 (행 분리)\n",
    "test_data = data1[['FG_PCT_home','FG_PCT_away','HOME_TEAM_WINS']]\n",
    "test_data"
   ]
  },
  {
   "cell_type": "code",
   "execution_count": 55,
   "id": "f883ddf4-4fab-4079-9703-a35bfd9abf70",
   "metadata": {},
   "outputs": [
    {
     "name": "stdout",
     "output_type": "stream",
     "text": [
      "(19914, 1)\n",
      "(6638, 1)\n",
      "(19914,)\n",
      "(6638,)\n"
     ]
    }
   ],
   "source": [
    "X = test_data.iloc[:,:1]\n",
    "y = test_data.iloc[:,2]\n",
    "X_train, X_test, y_train, y_test = train_test_split(X, y, test_size=0.25, random_state=4)\n",
    "print(X_train.shape)\n",
    "print(X_test.shape)\n",
    "print(y_train.shape)\n",
    "print(y_test.shape)"
   ]
  },
  {
   "cell_type": "code",
   "execution_count": 57,
   "id": "06af5737-08f6-4b58-9a98-b2c5489bbb3f",
   "metadata": {},
   "outputs": [
    {
     "data": {
      "text/plain": [
       "array([1, 1, 0, ..., 0, 0, 1], dtype=int64)"
      ]
     },
     "execution_count": 57,
     "metadata": {},
     "output_type": "execute_result"
    }
   ],
   "source": [
    "# 모델 객체 생성 (+ 하이퍼 파라미터 설정)\n",
    "knn_model = KNeighborsClassifier(n_neighbors=5)\n",
    "# 모델 학습\n",
    "# fit(훈련용 문제, 훈련용 답)\n",
    "knn_model.fit(X_train,y_train)\n",
    "# 모델 예측\n",
    "# 테스트 데이터 활용하기\n",
    "pre = knn_model.predict(X_test) # 예측값 예측을 영어로 prediction\n",
    "pre"
   ]
  },
  {
   "cell_type": "code",
   "execution_count": 59,
   "id": "dc4018b5-145b-4f23-9780-02a8645fc6d0",
   "metadata": {},
   "outputs": [
    {
     "data": {
      "text/plain": [
       "0.6416089183489003"
      ]
     },
     "execution_count": 59,
     "metadata": {},
     "output_type": "execute_result"
    }
   ],
   "source": [
    "# 정확도 점수 확인\n",
    "accuracy_score(y_test, pre)"
   ]
  },
  {
   "cell_type": "code",
   "execution_count": 63,
   "id": "b8beb7c3-1e94-403c-a94a-7331813c97e9",
   "metadata": {},
   "outputs": [
    {
     "name": "stdout",
     "output_type": "stream",
     "text": [
      "1: [0.60381622 0.61511424 0.61009289 0.63268893 0.63510799] 0.6193640526229445\n",
      "2: [0.591765   0.5932714  0.57419031 0.59352247 0.60145655] 0.590841147705473\n",
      "3: [0.65503389 0.66080844 0.6359528  0.67110218 0.65394274] 0.6553680111846518\n",
      "4: [0.62867186 0.64649761 0.61285463 0.64022094 0.61275741] 0.6282004899527159\n",
      "5: [0.66357017 0.66331911 0.64624655 0.66758725 0.65293822] 0.6587322590119006\n",
      "6: [0.6610595  0.6587999  0.64448908 0.66758725 0.65143144] 0.6566734336651512\n",
      "7: [0.66582978 0.67562139 0.66281697 0.6839066  0.6677549 ] 0.6711859279385909\n",
      "8: [0.67135325 0.66984685 0.66432337 0.66909365 0.65670517] 0.6662644592103077\n",
      "9: [0.67988953 0.67361285 0.66231484 0.67361285 0.66072325] 0.6700306664953375\n",
      "10: [0.68039166 0.67260859 0.66306804 0.67712779 0.65796082] 0.6702313814121871\n",
      "11: [0.67612352 0.67511926 0.67311072 0.67963846 0.67604219] 0.6760068311418455\n",
      "12: [0.67662566 0.67562139 0.66909365 0.68365554 0.67101959] 0.6752031644282274\n",
      "13: [0.68039166 0.67587246 0.66934472 0.68290233 0.67604219] 0.6769106724674795\n",
      "14: [0.68265127 0.67963846 0.67235752 0.69294502 0.67478654] 0.6804757613125496\n",
      "15: [0.68867688 0.68541301 0.67612352 0.68867688 0.67855349] 0.6834887548827873\n",
      "16: [0.68541301 0.68892794 0.67888526 0.69093648 0.67880462] 0.684593462446437\n",
      "17: [0.69344715 0.68792368 0.67712779 0.68792368 0.67805123] 0.6848947050580235\n",
      "18: [0.69922169 0.69018328 0.67411499 0.68114487 0.6752888 ] 0.6839907250213204\n",
      "19: [0.69821742 0.69445142 0.67135325 0.68491087 0.6803114 ] 0.6858488732815117\n",
      "20: [0.69796636 0.68892794 0.67386392 0.68691941 0.67453541] 0.6844426078538459\n",
      "21: [0.69972383 0.68792368 0.67762993 0.69018328 0.67579106] 0.6862503535555997\n",
      "22: [0.69721316 0.68993221 0.67160432 0.6831534  0.67503767] 0.6833881515274673\n",
      "23: [0.69947276 0.69143861 0.67461712 0.69420035 0.67805123] 0.6875560156279455\n",
      "24: [0.69495355 0.69595782 0.6839066  0.69244288 0.67503767] 0.6884597056324134\n",
      "25: [0.69620889 0.69219182 0.6808938  0.69394928 0.67855349] 0.6883594553598147\n",
      "26: [0.69645995 0.69796636 0.6839066  0.69394928 0.68081366] 0.6906191721647741\n",
      "27: [0.69696209 0.69394928 0.68516194 0.69495355 0.68332496] 0.6908703653006443\n",
      "28: [0.69696209 0.69721316 0.6831534  0.69143861 0.68156705] 0.6900668625182893\n",
      "29: [0.69997489 0.69394928 0.6846598  0.69093648 0.68432948] 0.6907699889270736\n",
      "30: [0.69871956 0.69871956 0.68365554 0.68792368 0.6803114 ] 0.6898659458398848\n",
      "31: [0.69595782 0.69620889 0.68139593 0.69068541 0.6803114 ] 0.6889118911072712\n",
      "32: [0.69294502 0.69746422 0.6846598  0.69319608 0.68106479] 0.6898659836701763\n",
      "33: [0.69344715 0.69520462 0.67963846 0.69143861 0.67805123] 0.6875560156279457\n",
      "34: [0.69294502 0.7014813  0.6824002  0.69068541 0.67980914] 0.6894642133638531\n",
      "35: [0.69570675 0.69972383 0.67762993 0.69118755 0.67754897] 0.6883594049194259\n",
      "36: [0.69294502 0.69972383 0.67762993 0.68717047 0.67453541] 0.6864009307260528\n",
      "37: [0.69294502 0.70047703 0.67762993 0.68742154 0.67930688] 0.6875560786784316\n",
      "38: [0.69294502 0.70022596 0.67913633 0.68440874 0.67227524] 0.6857982563514222\n",
      "39: [0.69294502 0.69746422 0.68139593 0.68792368 0.67855349] 0.6876564676620993\n",
      "40: [0.69219182 0.69420035 0.68189807 0.68792368 0.67378202] 0.685999185639924\n",
      "41: [0.69520462 0.69696209 0.68340447 0.69269395 0.67980914] 0.6896148535847921\n",
      "42: [0.69595782 0.69645995 0.68064273 0.68917901 0.67378202] 0.6872043074074361\n",
      "43: [0.69595782 0.69520462 0.681647   0.68591514 0.67704671] 0.6871542579317196\n",
      "44: [0.69796636 0.69721316 0.681647   0.69194075 0.67553993] 0.6888614381084451\n",
      "45: [0.69671102 0.69394928 0.68340447 0.69369822 0.68257157] 0.6900669129586781\n",
      "46: [0.69520462 0.69420035 0.67913633 0.69570675 0.67905575] 0.688660761021887\n",
      "47: [0.69620889 0.69394928 0.6808938  0.69420035 0.68206931] 0.6894643268547278\n",
      "48: [0.69420035 0.69721316 0.6808938  0.69846849 0.68307383] 0.6907699258765878\n",
      "49: [0.69771529 0.69620889 0.68189807 0.69846849 0.68106479] 0.6910711054376882\n",
      "50: [0.69796636 0.69420035 0.68340447 0.69846849 0.68332496] 0.6914729261844001\n",
      "51: [0.69871956 0.69721316 0.681647   0.69269395 0.68206931] 0.6904685949943209\n",
      "52: [0.70323876 0.69721316 0.68114487 0.69846849 0.68382722] 0.6927784999860659\n",
      "53: [0.7022345  0.69721316 0.67788099 0.69495355 0.68382722] 0.6912218843696962\n",
      "54: [0.70173236 0.69620889 0.68114487 0.69394928 0.67754897] 0.6901168741637141\n",
      "55: [0.70348983 0.69620889 0.6793874  0.69093648 0.67855349] 0.6897152173482656\n",
      "56: [0.69947276 0.69620889 0.68214913 0.69168968 0.67503767] 0.6889116262952303\n",
      "57: [0.70022596 0.69721316 0.67888526 0.69093648 0.67754897] 0.6889619658031819\n",
      "58: [0.69947276 0.69922169 0.68340447 0.69394928 0.67503767] 0.6902171748767015\n",
      "59: [0.69620889 0.69972383 0.68290233 0.69168968 0.67579106] 0.6892631579743795\n",
      "60: [0.69746422 0.69972383 0.68340447 0.69420035 0.67754897] 0.6904683680125718\n",
      "61: [0.69620889 0.70072809 0.68265127 0.69118755 0.67654445] 0.6894640494325898\n",
      "62: [0.69947276 0.69972383 0.681647   0.69269395 0.67729784] 0.6901670749605966\n",
      "63: [0.69671102 0.70097916 0.67762993 0.69194075 0.6752888 ] 0.6885099316494903\n",
      "64: [0.69420035 0.70097916 0.67813206 0.69269395 0.67403315] 0.6880077345292077\n",
      "65: [0.69620889 0.69922169 0.67813206 0.69168968 0.6752888 ] 0.6881082243936529\n",
      "66: [0.69620889 0.70097916 0.67813206 0.69194075 0.67704671] 0.6888615137690282\n",
      "67: [0.69595782 0.69520462 0.67762993 0.68943008 0.67830236] 0.6873049612031445\n",
      "68: [0.69394928 0.69470249 0.68039166 0.69043435 0.67704671] 0.6873048981526585\n",
      "69: [0.69671102 0.69520462 0.68139593 0.68943008 0.67704671] 0.6879576724433942\n",
      "70: [0.69746422 0.69696209 0.681647   0.69018328 0.67579106] 0.6884095300557254\n",
      "71: [0.69771529 0.69520462 0.681647   0.68767261 0.67604219] 0.6876563415611274\n",
      "72: [0.69520462 0.69771529 0.6786342  0.69093648 0.67754897] 0.6880079110705684\n",
      "73: [0.69445142 0.69369822 0.67838313 0.68892794 0.67629332] 0.6863508055897534\n",
      "74: [0.69394928 0.69545569 0.6786342  0.68867688 0.67704671] 0.6867525506758823\n",
      "75: [0.69319608 0.69721316 0.6786342  0.68767261 0.67729784] 0.6868027766929591\n",
      "76: [0.69394928 0.69595782 0.6786342  0.68968114 0.67729784] 0.6871040571348371\n",
      "77: [0.69319608 0.69294502 0.6786342  0.68641727 0.67679558] 0.6855976297052528\n",
      "78: [0.69244288 0.69771529 0.6801406  0.69018328 0.67503767] 0.6871039436439624\n",
      "79: [0.69294502 0.69595782 0.67888526 0.68867688 0.67629332] 0.6865516592176721\n",
      "80: [0.69269395 0.69721316 0.6801406  0.69018328 0.67754897] 0.6875559904077513\n",
      "81: [0.69319608 0.69721316 0.6801406  0.68717047 0.67729784] 0.6870036303208777\n",
      "82: [0.69269395 0.69595782 0.6801406  0.69043435 0.68006027] 0.6878573969506011\n",
      "83: [0.69269395 0.69420035 0.67988953 0.68817474 0.67855349] 0.6867024129294859\n",
      "84: [0.69269395 0.69319608 0.6801406  0.68817474 0.67880462] 0.6866019987256237\n",
      "85: [0.69545569 0.69545569 0.67888526 0.68691941 0.67754897] 0.686853002710036\n",
      "86: [0.69269395 0.69369822 0.67988953 0.68943008 0.68131592] 0.6874055393382701\n",
      "87: [0.69294502 0.69520462 0.67888526 0.68792368 0.6803114 ] 0.6870539950490236\n",
      "88: [0.69269395 0.69219182 0.67888526 0.68968114 0.67905575] 0.6865015845217615\n",
      "89: [0.69294502 0.69168968 0.67963846 0.69043435 0.67905575] 0.6867526515566598\n",
      "90: [0.69219182 0.69168968 0.67888526 0.69118755 0.67980914] 0.6867526893869513\n",
      "91: [0.69495355 0.69068541 0.67762993 0.69143861 0.68106479] 0.6871544596932745\n",
      "92: [0.69143861 0.69219182 0.67662566 0.69018328 0.68131592] 0.6863510577916971\n",
      "93: [0.69168968 0.69194075 0.67537032 0.69143861 0.68006027] 0.6860999277063129\n",
      "94: [0.69219182 0.69219182 0.67587246 0.69369822 0.68006027] 0.6868029154040283\n",
      "95: [0.69244288 0.69219182 0.67637459 0.69294502 0.68131592] 0.6870540454894124\n",
      "96: [0.69369822 0.69219182 0.67537032 0.69269395 0.68056253] 0.6869033674381818\n",
      "97: [0.69595782 0.69143861 0.67537032 0.68968114 0.67604219] 0.6856980186889207\n",
      "98: [0.69671102 0.69043435 0.67612352 0.69043435 0.68006027] 0.6867527019970485\n",
      "99: [0.69595782 0.69269395 0.67712779 0.68817474 0.67930688] 0.6866522373527976\n",
      "100: [0.69871956 0.69043435 0.67612352 0.69269395 0.68106479] 0.6878072339840102\n",
      "101: [0.70047703 0.69043435 0.67587246 0.69168968 0.68081366] 0.6878574347808927\n",
      "102: [0.70123023 0.69043435 0.67687673 0.69194075 0.68206931] 0.6885102721221141\n",
      "103: [0.69721316 0.69018328 0.67762993 0.69244288 0.68307383] 0.6881086153066656\n",
      "104: [0.7014813  0.69143861 0.67788099 0.69244288 0.68056253] 0.6887612634964293\n",
      "105: [0.70198343 0.69143861 0.67888526 0.69143861 0.68131592] 0.6890123683616192\n",
      "106: [0.7052473  0.69143861 0.67913633 0.69244288 0.67830236] 0.6893134974823311\n",
      "107: [0.70173236 0.69043435 0.67963846 0.69244288 0.67729784] 0.688309178902349\n",
      "108: [0.69871956 0.69043435 0.68114487 0.69244288 0.67729784] 0.6880078984604712\n",
      "109: [0.69796636 0.69043435 0.6801406  0.69294502 0.67654445] 0.6876061533743422\n",
      "110: [0.7022345  0.69143861 0.6801406  0.69319608 0.67704671] 0.6888113003620484\n",
      "111: [0.7014813  0.69118755 0.68064273 0.69219182 0.67704671] 0.6885100199201706\n",
      "112: [0.70474517 0.68892794 0.68064273 0.69269395 0.67704671] 0.6888113003620485\n",
      "113: [0.7075069  0.69118755 0.68039166 0.69018328 0.67955801] 0.689765481195634\n",
      "114: [0.7075069  0.68792368 0.6801406  0.69168968 0.68131592] 0.6897153560593345\n",
      "115: [0.7075069  0.69018328 0.67988953 0.69344715 0.6778001 ] 0.6897653929249536\n",
      "116: [0.7052473  0.69043435 0.6801406  0.68892794 0.67855349] 0.6886607358016926\n",
      "117: [0.70851117 0.69043435 0.6801406  0.68943008 0.67855349] 0.6894139369063875\n",
      "118: [0.70574944 0.68917901 0.6801406  0.68892794 0.67855349] 0.6885100955807536\n",
      "119: [0.70424303 0.69043435 0.68139593 0.68691941 0.6778001 ] 0.6881585639016045\n",
      "120: [0.69947276 0.68917901 0.68139593 0.68666834 0.67880462] 0.6871041327954202\n",
      "121: [0.7022345  0.69043435 0.68114487 0.69068541 0.67905575] 0.6887109744288666\n",
      "122: [0.70123023 0.68917901 0.68114487 0.69068541 0.67880462] 0.6882088277489729\n",
      "123: [0.70499623 0.68917901 0.68114487 0.69093648 0.67880462] 0.6890122422606475\n",
      "124: [0.70499623 0.68917901 0.68114487 0.68666834 0.67629332] 0.6876563541712246\n",
      "125: [0.70173236 0.68968114 0.68114487 0.69168968 0.68232044] 0.689313699243886\n",
      "126: [0.7014813  0.68917901 0.68114487 0.68767261 0.67629332] 0.687154220101428\n",
      "127: [0.70173236 0.68968114 0.68114487 0.69394928 0.67830236] 0.6889620036334734\n",
      "128: [0.70198343 0.69168968 0.68114487 0.69394928 0.67629332] 0.6890121161596756\n",
      "129: [0.70248556 0.69244288 0.68114487 0.69394928 0.67629332] 0.6892631831945739\n",
      "130: [0.7014813  0.69495355 0.68265127 0.69394928 0.67729784] 0.6900666481466373\n",
      "131: [0.7014813  0.69168968 0.68214913 0.69394928 0.6803114 ] 0.6899161592468644\n",
      "132: [0.7014813  0.69344715 0.68415767 0.69394928 0.67654445] 0.6899159700954067\n",
      "133: [0.7014813  0.69671102 0.68214913 0.69394928 0.6803114 ] 0.6909204273864576\n",
      "134: [0.70499623 0.69495355 0.68415767 0.69771529 0.67704671] 0.6917738913738487\n",
      "135: [0.7052473  0.69470249 0.68214913 0.69821742 0.67980914] 0.692025097119816\n",
      "136: [0.70574944 0.69495355 0.68214913 0.69821742 0.68106479] 0.6924268674261391\n",
      "137: [0.7052473  0.69671102 0.68265127 0.69746422 0.67955801] 0.6923263649515968\n",
      "138: [0.70876224 0.69495355 0.68214913 0.69746422 0.68106479] 0.6928787880889562\n",
      "139: [0.70474517 0.69671102 0.68214913 0.69771529 0.68081366] 0.6924268548160419\n",
      "140: [0.70901331 0.69671102 0.67988953 0.69545569 0.67880462] 0.6919748332724476\n",
      "141: [0.7075069  0.69671102 0.68139593 0.69696209 0.67980914] 0.6924770177826328\n",
      "142: [0.70876224 0.69545569 0.68340447 0.69520462 0.68131592] 0.6928285872920737\n",
      "143: [0.70901331 0.69269395 0.68340447 0.69595782 0.67905575] 0.6920250592895244\n",
      "144: [0.70926437 0.69269395 0.68214913 0.69595782 0.68131592] 0.6922762398152973\n",
      "145: [0.70851117 0.69445142 0.68415767 0.69746422 0.67980914] 0.6928787250384701\n",
      "146: [0.70926437 0.69545569 0.68139593 0.69595782 0.67955801] 0.6923263649515967\n",
      "147: [0.7052473  0.69570675 0.6839066  0.69746422 0.67980914] 0.6924268043756532\n",
      "148: [0.70926437 0.69671102 0.68290233 0.69520462 0.67980914] 0.6927782982245109\n",
      "149: [0.7060005  0.69671102 0.6831534  0.69746422 0.67930688] 0.6925272059694183\n",
      "150: [0.70926437 0.69671102 0.68189807 0.69520462 0.67805123] 0.6922258624770544\n",
      "151: [0.70926437 0.69570675 0.6839066  0.69595782 0.67704671] 0.6923764522576047\n",
      "152: [0.70901331 0.69696209 0.68290233 0.69445142 0.68106479] 0.6928787880889562\n",
      "153: [0.70901331 0.69796636 0.68290233 0.69520462 0.67930688] 0.6928786998182759\n",
      "154: [0.70574944 0.69696209 0.6801406  0.69520462 0.67980914] 0.691573176456999\n",
      "155: [0.70574944 0.69595782 0.68039166 0.69821742 0.67880462] 0.6918241930515086\n",
      "156: [0.70574944 0.69746422 0.68064273 0.69520462 0.67880462] 0.6915731260166103\n",
      "157: [0.7060005  0.69721316 0.68139593 0.69595782 0.67955801] 0.6920250845097188\n",
      "158: [0.70574944 0.69721316 0.68139593 0.69520462 0.67980914] 0.6918744568988769\n",
      "159: [0.70574944 0.69620889 0.68114487 0.69520462 0.67955801] 0.6915731638469018\n",
      "160: [0.70574944 0.69495355 0.68114487 0.69445142 0.67980914] 0.6912216826081414\n",
      "161: [0.70901331 0.69595782 0.68114487 0.69671102 0.6828227 ] 0.6931299433945348\n",
      "162: [0.70574944 0.69595782 0.68114487 0.69445142 0.68232044] 0.6919247964068285\n",
      "163: [0.7060005  0.69620889 0.68139593 0.69445142 0.68181818] 0.6919749845936137\n",
      "164: [0.70926437 0.69495355 0.68139593 0.69445142 0.67930688] 0.6918744316786827\n",
      "165: [0.70499623 0.69620889 0.6808938  0.69671102 0.67830236] 0.6914224605754768\n",
      "166: [0.7044941  0.69620889 0.6793874  0.69671102 0.67830236] 0.6910207533196396\n",
      "167: [0.70474517 0.69319608 0.67888526 0.69671102 0.67830236] 0.690367979028904\n",
      "168: [0.70474517 0.69319608 0.6801406  0.69671102 0.67830236] 0.6906190460638023\n",
      "169: [0.70800904 0.69545569 0.67963846 0.69671102 0.67830236] 0.6916233142033956\n",
      "170: [0.70800904 0.69445142 0.67963846 0.69671102 0.67830236] 0.6914224605754768\n",
      "171: [0.70800904 0.69545569 0.67963846 0.69671102 0.67830236] 0.6916233142033956\n",
      "172: [0.70800904 0.69545569 0.67963846 0.69671102 0.67930688] 0.691824218271703\n",
      "173: [0.70474517 0.69445142 0.6801406  0.69620889 0.68181818] 0.691472850523817\n",
      "174: [0.70474517 0.69445142 0.6801406  0.69620889 0.68006027] 0.6911212684042791\n",
      "175: [0.70348983 0.69545569 0.6801406  0.69671102 0.68156705] 0.69147283791372\n",
      "176: [0.70800904 0.69319608 0.68064273 0.69671102 0.68156705] 0.6920251853904963\n",
      "177: [0.70348983 0.69319608 0.6801406  0.69746422 0.68156705] 0.691171557471842\n",
      "178: [0.7044941  0.69420035 0.6801406  0.69746422 0.68156705] 0.6915732647276792\n",
      "179: [0.70348983 0.69420035 0.6801406  0.69746422 0.68106479] 0.6912719590656069\n",
      "180: [0.70800904 0.69420035 0.6831534  0.69746422 0.68156705] 0.6928788133091507\n",
      "181: [0.7067537  0.69420035 0.6831534  0.69696209 0.68583626] 0.6933811617505994\n",
      "182: [0.70775797 0.69344715 0.6831534  0.69696209 0.6828227 ] 0.6928286629526568\n",
      "183: [0.7067537  0.69344715 0.6801406  0.69696209 0.68232044] 0.6919247964068285\n",
      "184: [0.70348983 0.69344715 0.6801406  0.69696209 0.68232044] 0.6912720221160928\n",
      "185: [0.7037409  0.69420035 0.6801406  0.69696209 0.68232044] 0.6914728757440114\n",
      "186: [0.7037409  0.69344715 0.6801406  0.69696209 0.68232044] 0.6913222355230724\n",
      "187: [0.7037409  0.69369822 0.6801406  0.69696209 0.68232044] 0.6913724489300522\n",
      "188: [0.7037409  0.69344715 0.6801406  0.69696209 0.68232044] 0.6913222355230724\n",
      "189: [0.7037409  0.69344715 0.6801406  0.69696209 0.68232044] 0.6913222355230724\n",
      "190: [0.70700477 0.69344715 0.6801406  0.69696209 0.68106479] 0.691723879728424\n",
      "191: [0.7037409  0.69445142 0.6801406  0.69696209 0.68232044] 0.691523089150991\n",
      "192: [0.70800904 0.69445142 0.6831534  0.69470249 0.68232044] 0.6925273572905845\n",
      "193: [0.7037409  0.69445142 0.6801406  0.69696209 0.68232044] 0.691523089150991\n",
      "194: [0.70499623 0.69445142 0.67963846 0.69394928 0.6828227 ] 0.6911716205223278\n",
      "195: [0.7037409  0.69445142 0.68114487 0.69746422 0.68633852] 0.6926279858660986\n",
      "196: [0.7037409  0.69445142 0.67963846 0.69520462 0.68633852] 0.6918747847614037\n",
      "197: [0.7037409  0.69445142 0.6801406  0.69746422 0.68583626] 0.6923266802040263\n",
      "198: [0.70499623 0.69445142 0.6801406  0.69620889 0.68633852] 0.6924271322381801\n",
      "199: [0.70474517 0.69445142 0.6801406  0.69871956 0.68583626] 0.6927786008668433\n",
      "200: [0.70499623 0.69344715 0.6801406  0.69620889 0.68633852] 0.6922262786102614\n",
      "가장 좋은 n_neighbors 181\n"
     ]
    }
   ],
   "source": [
    "# 최적의 하이퍼 파라미터 찾기\n",
    "# lst = []\n",
    "# for i in range(1,1000):\n",
    "#     knn_model = KNeighborsClassifier(n_neighbors=i)\n",
    "#     knn_model.fit(X_train,y_train)\n",
    "#     pre = knn_model.predict(X_test)\n",
    "#     lst.append(accuracy_score(y_test, pre))\n",
    "# lst\n",
    "K_lst = []\n",
    "for k in range(1,201):\n",
    "    knn_model = KNeighborsClassifier(n_neighbors=k)\n",
    "    knn_result = cross_val_score(knn_model, X_train, y_train, cv=5)\n",
    "    print(f'{k}:', knn_result, knn_result.mean())\n",
    "    K_lst.append(knn_result.mean())\n",
    "print(f\"가장 좋은 n_neighbors {K_lst.index(max(K_lst))+1}\")"
   ]
  },
  {
   "cell_type": "code",
   "execution_count": 64,
   "id": "ad9108bf-7978-4cfa-b78c-10cbd8d1942d",
   "metadata": {},
   "outputs": [],
   "source": [
    "# max(lst)\n",
    "# # lst.index(max(lst))+1\n",
    "# # 다수의 최댓값 처리\n",
    "# [index for index, value in enumerate(lst) if value == max(lst)]"
   ]
  },
  {
   "cell_type": "code",
   "execution_count": 65,
   "id": "24acd978-0fd9-4d22-a43d-702e47974463",
   "metadata": {},
   "outputs": [
    {
     "data": {
      "image/png": "[encoded data removed]",
      "text/plain": [
       "<Figure size 640x480 with 1 Axes>"
      ]
     },
     "metadata": {},
     "output_type": "display_data"
    }
   ],
   "source": [
    "# 시각화\n",
    "# 추이 - 선그래프\n",
    "plt.plot(range(1,201), K_lst)\n",
    "plt.xlabel('n_neighbors')\n",
    "plt.xticks(range(1,201,11))\n",
    "plt.ylabel('cross acc mean')\n",
    "plt.grid()\n",
    "# plt.xlim(600,800)\n",
    "# plt.ylim(0.687,0.692)\n",
    "plt.show()"
   ]
  },
  {
   "cell_type": "markdown",
   "id": "ecf19eac-5ac1-4e3a-b1d1-d4087cb3b1d4",
   "metadata": {},
   "source": [
    "#### 최적의 하이퍼 파라미터 조합을 찾아보자!\n",
    " - GridSearchCV\n",
    " - 1. 모델에 연결할 파라미터의 조합을 정의\n",
    "   2. 임의로 연결할 모델 생성\n",
    "   3. 그리드서치 내부 파라미터 값들을 연결 - 그리드 객체 생성\n",
    "   4. 그리드서치 객체에 데이터를 연결하여 실행"
   ]
  },
  {
   "cell_type": "code",
   "execution_count": null,
   "id": "bd7b74ec-59dd-46ff-8120-d14740457a3d",
   "metadata": {},
   "outputs": [],
   "source": [
    "# params = {'n_neighbors':range(1,1000)}\n",
    "# knn = KNeighborsClassifier()\n",
    "# grid = GridSearchCV(knn, params, cv=5, scoring='accuracy', n_jobs=-1, verbose=1)\n",
    "# grid.fit(X_train, y_train)\n",
    "# print(grid.best_params_)\n",
    "# print(grid.best_score_)"
   ]
  },
  {
   "cell_type": "code",
   "execution_count": null,
   "id": "038f9b17-43b3-42b0-9d3f-03ad9a5cb0cc",
   "metadata": {},
   "outputs": [],
   "source": []
  },
  {
   "cell_type": "code",
   "execution_count": null,
   "id": "ee4ba49f-9fe7-413f-9f85-af3a89b7f9a6",
   "metadata": {},
   "outputs": [],
   "source": [
    "# 결측치 처리된 데이터 저장\n",
    "csv_file = './archive/example.csv'\n",
    "data1.to_csv(csv_file, index=False, encoding='utf-8')"
   ]
  }
 ],
 "metadata": {
  "kernelspec": {
   "display_name": "Python 3 (ipykernel)",
   "language": "python",
   "name": "python3"
  },
  "language_info": {
   "codemirror_mode": {
    "name": "ipython",
    "version": 3
   },
   "file_extension": ".py",
   "mimetype": "text/x-python",
   "name": "python",
   "nbconvert_exporter": "python",
   "pygments_lexer": "ipython3",
   "version": "3.12.4"
  }
 },
 "nbformat": 4,
 "nbformat_minor": 5
}
