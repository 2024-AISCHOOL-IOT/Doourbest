{
 "cells": [
  {
   "cell_type": "code",
   "execution_count": 1,
   "id": "0b3e7919-b490-4659-b2d1-677861d99363",
   "metadata": {},
   "outputs": [],
   "source": [
    "# 환경셋팅\n",
    "import numpy as np\n",
    "import pandas as pd\n",
    "import matplotlib.pyplot as plt\n",
    "from sklearn.model_selection import train_test_split, GridSearchCV\n",
    "from sklearn.neighbors import KNeighborsClassifier  # knn 분류 모델\n",
    "from sklearn.metrics import accuracy_score\n",
    "from sklearn.model_selection import cross_val_score\n",
    "# pd.set_option('display.max_columns',None)\n",
    "# pd.set_option('display.max_rows',None)"
   ]
  },
  {
   "cell_type": "code",
   "execution_count": 2,
   "id": "09672778-2a52-45f5-b7ad-0551c3e0e171",
   "metadata": {},
   "outputs": [
    {
     "name": "stdout",
     "output_type": "stream",
     "text": [
      "<class 'pandas.core.frame.DataFrame'>\n",
      "RangeIndex: 26651 entries, 0 to 26650\n",
      "Data columns (total 21 columns):\n",
      " #   Column            Non-Null Count  Dtype  \n",
      "---  ------            --------------  -----  \n",
      " 0   GAME_DATE_EST     26651 non-null  object \n",
      " 1   GAME_ID           26651 non-null  int64  \n",
      " 2   GAME_STATUS_TEXT  26651 non-null  object \n",
      " 3   HOME_TEAM_ID      26651 non-null  int64  \n",
      " 4   VISITOR_TEAM_ID   26651 non-null  int64  \n",
      " 5   SEASON            26651 non-null  int64  \n",
      " 6   TEAM_ID_home      26651 non-null  int64  \n",
      " 7   PTS_home          26552 non-null  float64\n",
      " 8   FG_PCT_home       26552 non-null  float64\n",
      " 9   FT_PCT_home       26552 non-null  float64\n",
      " 10  FG3_PCT_home      26552 non-null  float64\n",
      " 11  AST_home          26552 non-null  float64\n",
      " 12  REB_home          26552 non-null  float64\n",
      " 13  TEAM_ID_away      26651 non-null  int64  \n",
      " 14  PTS_away          26552 non-null  float64\n",
      " 15  FG_PCT_away       26552 non-null  float64\n",
      " 16  FT_PCT_away       26552 non-null  float64\n",
      " 17  FG3_PCT_away      26552 non-null  float64\n",
      " 18  AST_away          26552 non-null  float64\n",
      " 19  REB_away          26552 non-null  float64\n",
      " 20  HOME_TEAM_WINS    26651 non-null  int64  \n",
      "dtypes: float64(12), int64(7), object(2)\n",
      "memory usage: 4.3+ MB\n"
     ]
    }
   ],
   "source": [
    "# 데이터를 불러와서 data 변수에 담기\n",
    "data = pd.read_csv('./archive/games.csv')\n",
    "# data.head()\n",
    "# 정보 확인\n",
    "data.info()"
   ]
  },
  {
   "cell_type": "code",
   "execution_count": 3,
   "id": "b1b16be4-4d8c-468c-9574-aa1c73ed26be",
   "metadata": {},
   "outputs": [
    {
     "data": {
      "text/plain": [
       "99"
      ]
     },
     "execution_count": 3,
     "metadata": {},
     "output_type": "execute_result"
    }
   ],
   "source": [
    "# 결측치 처리\n",
    "data['PTS_home'].isnull().sum()"
   ]
  },
  {
   "cell_type": "code",
   "execution_count": 4,
   "id": "b9956e6e-4c55-4109-a8f1-8f3d997c293b",
   "metadata": {},
   "outputs": [
    {
     "data": {
      "text/plain": [
       "PTS_home        99\n",
       "FG_PCT_home     99\n",
       "FT_PCT_home     99\n",
       "FG3_PCT_home    99\n",
       "AST_home        99\n",
       "REB_home        99\n",
       "dtype: int64"
      ]
     },
     "execution_count": 4,
     "metadata": {},
     "output_type": "execute_result"
    }
   ],
   "source": [
    "data[data['PTS_home'].isnull()][['PTS_home','FG_PCT_home','FT_PCT_home','FG3_PCT_home','AST_home','REB_home']].isna().sum()"
   ]
  },
  {
   "cell_type": "code",
   "execution_count": 5,
   "id": "5540deca-8dba-4a71-a58c-bb8733e328b1",
   "metadata": {},
   "outputs": [
    {
     "data": {
      "text/plain": [
       "GAME_DATE_EST       0\n",
       "GAME_ID             0\n",
       "GAME_STATUS_TEXT    0\n",
       "HOME_TEAM_ID        0\n",
       "VISITOR_TEAM_ID     0\n",
       "SEASON              0\n",
       "TEAM_ID_home        0\n",
       "PTS_home            0\n",
       "FG_PCT_home         0\n",
       "FT_PCT_home         0\n",
       "FG3_PCT_home        0\n",
       "AST_home            0\n",
       "REB_home            0\n",
       "TEAM_ID_away        0\n",
       "PTS_away            0\n",
       "FG_PCT_away         0\n",
       "FT_PCT_away         0\n",
       "FG3_PCT_away        0\n",
       "AST_away            0\n",
       "REB_away            0\n",
       "HOME_TEAM_WINS      0\n",
       "dtype: int64"
      ]
     },
     "execution_count": 5,
     "metadata": {},
     "output_type": "execute_result"
    }
   ],
   "source": [
    "data1 = data.dropna() # dropna(how = 'all') >> 모두 all이어야 날린다 , dropna(how = 'any') >> 하나라도 none 이면 날린다\n",
    "data1.isnull().sum()#data1.isnull().value_counts()???"
   ]
  },
  {
   "cell_type": "code",
   "execution_count": 6,
   "id": "b5d83635-8b72-42e3-a1b3-68aff74a20a7",
   "metadata": {},
   "outputs": [
    {
     "data": {
      "text/html": [
       "<div>\n",
       "<style scoped>\n",
       "    .dataframe tbody tr th:only-of-type {\n",
       "        vertical-align: middle;\n",
       "    }\n",
       "\n",
       "    .dataframe tbody tr th {\n",
       "        vertical-align: top;\n",
       "    }\n",
       "\n",
       "    .dataframe thead th {\n",
       "        text-align: right;\n",
       "    }\n",
       "</style>\n",
       "<table border=\"1\" class=\"dataframe\">\n",
       "  <thead>\n",
       "    <tr style=\"text-align: right;\">\n",
       "      <th></th>\n",
       "      <th>FG_PCT_home</th>\n",
       "      <th>FG_PCT_away</th>\n",
       "      <th>HOME_TEAM_WINS</th>\n",
       "    </tr>\n",
       "  </thead>\n",
       "  <tbody>\n",
       "    <tr>\n",
       "      <th>0</th>\n",
       "      <td>0.484</td>\n",
       "      <td>0.478</td>\n",
       "      <td>1</td>\n",
       "    </tr>\n",
       "    <tr>\n",
       "      <th>1</th>\n",
       "      <td>0.488</td>\n",
       "      <td>0.561</td>\n",
       "      <td>1</td>\n",
       "    </tr>\n",
       "    <tr>\n",
       "      <th>2</th>\n",
       "      <td>0.482</td>\n",
       "      <td>0.470</td>\n",
       "      <td>1</td>\n",
       "    </tr>\n",
       "    <tr>\n",
       "      <th>3</th>\n",
       "      <td>0.441</td>\n",
       "      <td>0.392</td>\n",
       "      <td>1</td>\n",
       "    </tr>\n",
       "    <tr>\n",
       "      <th>4</th>\n",
       "      <td>0.429</td>\n",
       "      <td>0.500</td>\n",
       "      <td>0</td>\n",
       "    </tr>\n",
       "    <tr>\n",
       "      <th>...</th>\n",
       "      <td>...</td>\n",
       "      <td>...</td>\n",
       "      <td>...</td>\n",
       "    </tr>\n",
       "    <tr>\n",
       "      <th>26646</th>\n",
       "      <td>0.419</td>\n",
       "      <td>0.366</td>\n",
       "      <td>1</td>\n",
       "    </tr>\n",
       "    <tr>\n",
       "      <th>26647</th>\n",
       "      <td>0.338</td>\n",
       "      <td>0.411</td>\n",
       "      <td>0</td>\n",
       "    </tr>\n",
       "    <tr>\n",
       "      <th>26648</th>\n",
       "      <td>0.448</td>\n",
       "      <td>0.387</td>\n",
       "      <td>1</td>\n",
       "    </tr>\n",
       "    <tr>\n",
       "      <th>26649</th>\n",
       "      <td>0.440</td>\n",
       "      <td>0.469</td>\n",
       "      <td>1</td>\n",
       "    </tr>\n",
       "    <tr>\n",
       "      <th>26650</th>\n",
       "      <td>0.431</td>\n",
       "      <td>0.462</td>\n",
       "      <td>0</td>\n",
       "    </tr>\n",
       "  </tbody>\n",
       "</table>\n",
       "<p>26552 rows × 3 columns</p>\n",
       "</div>"
      ],
      "text/plain": [
       "       FG_PCT_home  FG_PCT_away  HOME_TEAM_WINS\n",
       "0            0.484        0.478               1\n",
       "1            0.488        0.561               1\n",
       "2            0.482        0.470               1\n",
       "3            0.441        0.392               1\n",
       "4            0.429        0.500               0\n",
       "...            ...          ...             ...\n",
       "26646        0.419        0.366               1\n",
       "26647        0.338        0.411               0\n",
       "26648        0.448        0.387               1\n",
       "26649        0.440        0.469               1\n",
       "26650        0.431        0.462               0\n",
       "\n",
       "[26552 rows x 3 columns]"
      ]
     },
     "execution_count": 6,
     "metadata": {},
     "output_type": "execute_result"
    }
   ],
   "source": [
    "# 문제와 답 (열 분리)\n",
    "# 훈련셋과 테스트셋 분리 (행 분리)\n",
    "test_data = data1[['FG_PCT_home','FG_PCT_away','HOME_TEAM_WINS']]\n",
    "test_data"
   ]
  },
  {
   "cell_type": "code",
   "execution_count": 7,
   "id": "f883ddf4-4fab-4079-9703-a35bfd9abf70",
   "metadata": {},
   "outputs": [
    {
     "name": "stdout",
     "output_type": "stream",
     "text": [
      "(19914, 1)\n",
      "(6638, 1)\n",
      "(19914,)\n",
      "(6638,)\n"
     ]
    }
   ],
   "source": [
    "X = test_data.iloc[:,:1]\n",
    "y = test_data.iloc[:,2]\n",
    "X_train, X_test, y_train, y_test = train_test_split(X, y, test_size=0.25, random_state=5)\n",
    "print(X_train.shape)\n",
    "print(X_test.shape)\n",
    "print(y_train.shape)\n",
    "print(y_test.shape)"
   ]
  },
  {
   "cell_type": "code",
   "execution_count": 8,
   "id": "06af5737-08f6-4b58-9a98-b2c5489bbb3f",
   "metadata": {},
   "outputs": [
    {
     "data": {
      "text/plain": [
       "array([1, 1, 1, ..., 1, 0, 0], dtype=int64)"
      ]
     },
     "execution_count": 8,
     "metadata": {},
     "output_type": "execute_result"
    }
   ],
   "source": [
    "# 모델 객체 생성 (+ 하이퍼 파라미터 설정)\n",
    "knn_model = KNeighborsClassifier(n_neighbors=5)\n",
    "# 모델 학습\n",
    "# fit(훈련용 문제, 훈련용 답)\n",
    "knn_model.fit(X_train,y_train)\n",
    "# 모델 예측\n",
    "# 테스트 데이터 활용하기\n",
    "pre = knn_model.predict(X_test) # 예측값 예측을 영어로 prediction\n",
    "pre"
   ]
  },
  {
   "cell_type": "code",
   "execution_count": 9,
   "id": "dc4018b5-145b-4f23-9780-02a8645fc6d0",
   "metadata": {},
   "outputs": [
    {
     "data": {
      "text/plain": [
       "0.6474841819825249"
      ]
     },
     "execution_count": 9,
     "metadata": {},
     "output_type": "execute_result"
    }
   ],
   "source": [
    "# 정확도 점수 확인\n",
    "accuracy_score(y_test, pre)"
   ]
  },
  {
   "cell_type": "code",
   "execution_count": 10,
   "id": "b8beb7c3-1e94-403c-a94a-7331813c97e9",
   "metadata": {},
   "outputs": [
    {
     "name": "stdout",
     "output_type": "stream",
     "text": [
      "1: [0.54858147 0.61963344 0.6161185  0.64047201 0.64013059] 0.6129872021384708\n",
      "2: [0.54581973 0.57896058 0.57393924 0.56615616 0.60622803] 0.5742207495870508\n",
      "3: [0.60456942 0.62791865 0.63796134 0.636706   0.64364641] 0.6301603638668761\n",
      "4: [0.59854381 0.60733116 0.60733116 0.60959076 0.6260673 ] 0.60977283792633\n",
      "5: [0.62992719 0.6572935  0.6610595  0.6610595  0.66549473] 0.654966883993285\n",
      "6: [0.62264625 0.65905097 0.6587999  0.64725082 0.6569563 ] 0.648940846412421\n",
      "7: [0.62766759 0.68189807 0.67135325 0.66959578 0.67729784] 0.6655625055405615\n",
      "8: [0.63042932 0.66683404 0.65503389 0.66357017 0.66725264] 0.656624014694294\n",
      "9: [0.66582978 0.68139593 0.66306804 0.66909365 0.67880462] 0.6716384034456838\n",
      "10: [0.66457444 0.67009792 0.65679136 0.65528496 0.67252637] 0.6638550101114064\n",
      "11: [0.67034898 0.68064273 0.65679136 0.66934472 0.68257157] 0.6719398730390196\n",
      "12: [0.67110218 0.66783831 0.6572935  0.65202109 0.66750377] 0.6631517702117475\n",
      "13: [0.67110218 0.68214913 0.66658298 0.68189807 0.68257157] 0.6768607869230265\n",
      "14: [0.67737886 0.67662566 0.66432337 0.66633191 0.67579106] 0.6720901727873346\n",
      "15: [0.67285965 0.68064273 0.67009792 0.67110218 0.69110999] 0.6771624961082088\n",
      "16: [0.67637459 0.67913633 0.66658298 0.66959578 0.68432948] 0.675203832763378\n",
      "17: [0.67210645 0.68440874 0.67687673 0.67486819 0.69437469] 0.6805269583071096\n",
      "18: [0.67009792 0.67587246 0.66382124 0.66884258 0.66875942] 0.669478722541671\n",
      "19: [0.67386392 0.67913633 0.66658298 0.67486819 0.67855349] 0.6746009818473868\n",
      "20: [0.67336179 0.67662566 0.66658298 0.67813206 0.67729784] 0.6744000651689823\n",
      "21: [0.67436606 0.69319608 0.6801406  0.68139593 0.6936213 ] 0.6845439930351911\n",
      "22: [0.67562139 0.68842581 0.68290233 0.6808938  0.68960321] 0.6834893097270632\n",
      "23: [0.67361285 0.69394928 0.68139593 0.68290233 0.69261678] 0.68489543644366\n",
      "24: [0.67687673 0.69244288 0.67963846 0.68064273 0.68985434] 0.6838910295929976\n",
      "25: [0.67386392 0.69495355 0.681647   0.6846598  0.6903566 ] 0.685096176580704\n",
      "26: [0.67210645 0.69043435 0.67963846 0.68566407 0.68960321] 0.6834893097270632\n",
      "27: [0.67185539 0.69093648 0.68440874 0.68691941 0.69286791] 0.6853975831235539\n",
      "28: [0.67160432 0.69344715 0.68039166 0.68516194 0.68935208] 0.6839914311867628\n",
      "29: [0.67135325 0.69470249 0.6831534  0.68415767 0.69437469] 0.685548299005076\n",
      "30: [0.67185539 0.69470249 0.67361285 0.67788099 0.68684078] 0.6809785006670112\n",
      "31: [0.67110218 0.69445142 0.67687673 0.6831534  0.6903566 ] 0.6831880671154769\n",
      "32: [0.67336179 0.69520462 0.67562139 0.6831534  0.69060773] 0.6835897869814114\n",
      "33: [0.67411499 0.69445142 0.67762993 0.68340447 0.68935208] 0.6837905775588441\n",
      "34: [0.67788099 0.69495355 0.68189807 0.68566407 0.68809643] 0.6856986239735854\n",
      "35: [0.67537032 0.69620889 0.68415767 0.68591514 0.69186339] 0.6867030812646364\n",
      "36: [0.67788099 0.69796636 0.68114487 0.67762993 0.69236565] 0.6853975579033594\n",
      "37: [0.6793874  0.69821742 0.68290233 0.68516194 0.69211452] 0.6875567217933878\n",
      "38: [0.68139593 0.69997489 0.6839066  0.68566407 0.69211452] 0.6886112033399607\n",
      "39: [0.67813206 0.69595782 0.68064273 0.68415767 0.69261678] 0.6863014118390907\n",
      "40: [0.67963846 0.69620889 0.68114487 0.68566407 0.69311904] 0.6871550649779392\n",
      "41: [0.67963846 0.69821742 0.68265127 0.68214913 0.69337017] 0.687205290995016\n",
      "42: [0.68039166 0.69972383 0.68189807 0.68440874 0.69311904] 0.6879082660826341\n",
      "43: [0.68265127 0.69746422 0.6846598  0.68415767 0.69186339] 0.6881592700670466\n",
      "44: [0.6831534  0.69897063 0.6824002  0.6839066  0.69161226] 0.6880086172360105\n",
      "45: [0.67963846 0.69746422 0.68139593 0.68591514 0.6903566 ] 0.6869540726389516\n",
      "46: [0.68340447 0.69746422 0.68340447 0.68265127 0.69161226] 0.6877073367941324\n",
      "47: [0.68717047 0.69570675 0.68566407 0.68691941 0.69060773] 0.6892136885631336\n",
      "48: [0.68566407 0.69972383 0.68365554 0.68641727 0.69161226] 0.6894145926314411\n",
      "49: [0.68968114 0.69922169 0.68566407 0.68616621 0.69387243] 0.6909211083317055\n",
      "50: [0.68767261 0.69746422 0.68691941 0.68792368 0.69337017] 0.6906700160766129\n",
      "51: [0.68666834 0.69947276 0.68767261 0.68566407 0.69211452] 0.6903184591772693\n",
      "52: [0.68666834 0.69972383 0.68214913 0.68842581 0.69412356] 0.6902181332440875\n",
      "53: [0.68892794 0.69922169 0.68491087 0.68993221 0.69713712] 0.6920259672165214\n",
      "54: [0.68591514 0.69922169 0.68641727 0.68867688 0.69337017] 0.6907202294835926\n",
      "55: [0.68666834 0.70123023 0.68717047 0.68867688 0.69763938] 0.6922770594716143\n",
      "56: [0.6786342  0.70072809 0.69043435 0.68717047 0.6936213 ] 0.6901176812099339\n",
      "57: [0.6824002  0.69897063 0.68767261 0.69043435 0.69211452] 0.6903184591772693\n",
      "58: [0.681647   0.69897063 0.68943008 0.68792368 0.69638373] 0.6908710210256978\n",
      "59: [0.6808938  0.69771529 0.68691941 0.69018328 0.69412356] 0.6899670662091892\n",
      "60: [0.68189807 0.69972383 0.68892794 0.68792368 0.6936213 ] 0.6904189616518118\n",
      "61: [0.68139593 0.69972383 0.68666834 0.68641727 0.69537921] 0.6899169158526954\n",
      "62: [0.68139593 0.70072809 0.68742154 0.68817474 0.69588147] 0.6907203555845645\n",
      "63: [0.68114487 0.69796636 0.68892794 0.68491087 0.69588147] 0.6897663008519507\n",
      "64: [0.68139593 0.70072809 0.68817474 0.68566407 0.69512808] 0.6902181836844762\n",
      "65: [0.68114487 0.69796636 0.69043435 0.68566407 0.69412356] 0.6898666393952299\n",
      "66: [0.68214913 0.69746422 0.68943008 0.68541301 0.69412356] 0.6897159991742908\n",
      "67: [0.68189807 0.69570675 0.69194075 0.68516194 0.69412356] 0.6897662125812706\n",
      "68: [0.68189807 0.69671102 0.68867688 0.68114487 0.69060773] 0.6878077131677032\n",
      "69: [0.6824002  0.69871956 0.68842581 0.68114487 0.69085886] 0.6883098598475968\n",
      "70: [0.68290233 0.69746422 0.68917901 0.681647   0.69311904] 0.6888623208152479\n",
      "71: [0.681647   0.69871956 0.68792368 0.68039166 0.69236565] 0.6882095086942207\n",
      "72: [0.68214913 0.69746422 0.68641727 0.68189807 0.69060773] 0.6877072863537437\n",
      "73: [0.6846598  0.69721316 0.68968114 0.68541301 0.69412356] 0.6902181332440875\n",
      "74: [0.68616621 0.69721316 0.68968114 0.68139593 0.69286791] 0.6894648690889066\n",
      "75: [0.68491087 0.69871956 0.68691941 0.67963846 0.69337017] 0.6887116932044061\n",
      "76: [0.68641727 0.69721316 0.68365554 0.67988953 0.69487695] 0.6884104884231113\n",
      "77: [0.68767261 0.69545569 0.68691941 0.68139593 0.69311904] 0.6889125342222275\n",
      "78: [0.68767261 0.69319608 0.68917901 0.68039166 0.6936213 ] 0.6888121326284626\n",
      "79: [0.68767261 0.69570675 0.68867688 0.67988953 0.69537921] 0.6894649951898785\n",
      "80: [0.68943008 0.69570675 0.69043435 0.6801406  0.69588147] 0.6903186483287269\n",
      "81: [0.68993221 0.69570675 0.68842581 0.6824002  0.69311904] 0.6899168023618207\n",
      "82: [0.68867688 0.69746422 0.68993221 0.68365554 0.69337017] 0.6906198026696332\n",
      "83: [0.68867688 0.69570675 0.68943008 0.68189807 0.69537921] 0.6902181962945735\n",
      "84: [0.68817474 0.69570675 0.69018328 0.68214913 0.69537921] 0.6903186231085326\n",
      "85: [0.68943008 0.69570675 0.69394928 0.68566407 0.69412356] 0.6917747488604571\n",
      "86: [0.68892794 0.69570675 0.69269395 0.68189807 0.69462582] 0.6907705059410582\n",
      "87: [0.68717047 0.69570675 0.69269395 0.68189807 0.69512808] 0.6905194641263541\n",
      "88: [0.68993221 0.69570675 0.69168968 0.68114487 0.69537921] 0.6907705437713496\n",
      "89: [0.68641727 0.69570675 0.69269395 0.68064273 0.69462582] 0.6900173048363631\n",
      "90: [0.68541301 0.69570675 0.69018328 0.68214913 0.69462582] 0.6896155975805259\n",
      "91: [0.68641727 0.69570675 0.69269395 0.68290233 0.69337017] 0.690218095413796\n",
      "92: [0.68867688 0.69570675 0.68943008 0.68365554 0.69337017] 0.6901678820068163\n",
      "93: [0.68641727 0.69570675 0.69018328 0.68440874 0.69311904] 0.6899670157688005\n",
      "94: [0.68792368 0.69570675 0.69018328 0.68365554 0.69337017] 0.6901678820068163\n",
      "95: [0.6846598  0.69545569 0.68968114 0.6831534  0.69236565] 0.689063136612875\n",
      "96: [0.68842581 0.69545569 0.68867688 0.6831534  0.69236565] 0.6896154840896512\n",
      "97: [0.68541301 0.69545569 0.69093648 0.68566407 0.69236565] 0.6899669779385088\n",
      "98: [0.68842581 0.69545569 0.68842581 0.6824002  0.69236565] 0.6894146304617326\n",
      "99: [0.68717047 0.69545569 0.69068541 0.68541301 0.69186339] 0.6901175929392536\n",
      "100: [0.68616621 0.69545569 0.69068541 0.68290233 0.69186339] 0.6894146052415382\n",
      "101: [0.68616621 0.69545569 0.69068541 0.68039166 0.69161226] 0.6888622451546648\n",
      "102: [0.68616621 0.69545569 0.68817474 0.68139593 0.69236565] 0.6887116427640173\n",
      "103: [0.68691941 0.69545569 0.69068541 0.6824002  0.69161226] 0.689414592631441\n",
      "104: [0.68616621 0.69545569 0.69068541 0.68214913 0.69261678] 0.6894146430718298\n",
      "105: [0.69118755 0.69545569 0.69018328 0.68440874 0.69161226] 0.6905695009919732\n",
      "106: [0.69118755 0.69545569 0.68943008 0.6839066  0.69236565] 0.6904691120083055\n",
      "107: [0.69118755 0.69545569 0.68943008 0.68415767 0.69060773] 0.6901677432957471\n",
      "108: [0.69244288 0.69545569 0.68943008 0.68415767 0.69161226] 0.690619714398953\n",
      "109: [0.69194075 0.69545569 0.68993221 0.68415767 0.69487695] 0.6912726526209519\n",
      "110: [0.69194075 0.69545569 0.69118755 0.68415767 0.69462582] 0.6914734936387734\n",
      "111: [0.69219182 0.69545569 0.69043435 0.68440874 0.69487695] 0.6914735062488707\n",
      "112: [0.68968114 0.69721316 0.69043435 0.68214913 0.69487695] 0.6908709453651146\n",
      "113: [0.69068541 0.69545569 0.69018328 0.68516194 0.69487695] 0.6912726526209519\n",
      "114: [0.69018328 0.69545569 0.69043435 0.681647   0.69487695] 0.6905194515162572\n",
      "115: [0.69194075 0.69545569 0.69068541 0.681647   0.69563034] 0.691071836823325\n",
      "116: [0.69043435 0.69545569 0.69068541 0.68039166 0.69487695] 0.6903688112953181\n",
      "117: [0.69219182 0.69545569 0.68817474 0.6831534  0.69688599] 0.6911723266877701\n",
      "118: [0.69219182 0.69545569 0.69093648 0.6808938  0.69487695] 0.6908709453651147\n",
      "119: [0.69470249 0.69545569 0.68842581 0.68415767 0.69236565] 0.6910214594850819\n",
      "120: [0.69043435 0.69721316 0.68867688 0.68189807 0.6936213 ] 0.6903687482448321\n",
      "121: [0.69369822 0.69545569 0.68842581 0.68039166 0.69236565] 0.6900674047524682\n",
      "122: [0.69093648 0.69771529 0.68817474 0.68039166 0.69487695] 0.6904190247022977\n",
      "123: [0.69344715 0.69721316 0.68767261 0.68566407 0.69236565] 0.6912725265199801\n",
      "124: [0.69269395 0.69721316 0.68691941 0.68365554 0.69487695] 0.6910717989930333\n",
      "125: [0.69244288 0.69721316 0.68516194 0.6839066  0.69487695] 0.6907203051441757\n",
      "126: [0.69620889 0.69721316 0.6831534  0.68365554 0.69487695] 0.6910215855860538\n",
      "127: [0.69495355 0.69545569 0.68566407 0.68440874 0.69487695] 0.6910717989930334\n",
      "128: [0.69445142 0.69545569 0.68491087 0.68440874 0.69588147] 0.6910216360264423\n",
      "129: [0.69445142 0.69545569 0.6831534  0.68641727 0.69462582] 0.6908207193480378\n",
      "130: [0.69721316 0.69445142 0.6846598  0.68641727 0.69537921] 0.6916241716900039\n",
      "131: [0.69570675 0.69545569 0.68591514 0.68641727 0.69462582] 0.6916241338597124\n",
      "132: [0.69570675 0.69545569 0.68566407 0.68691941 0.69412356] 0.6915738952325384\n",
      "133: [0.69545569 0.69545569 0.68440874 0.68666834 0.69462582] 0.6913228534178344\n",
      "134: [0.69645995 0.69721316 0.68440874 0.68616621 0.69412356] 0.6916743220464977\n",
      "135: [0.69319608 0.69721316 0.68666834 0.68641727 0.69412356] 0.6915236818255587\n",
      "136: [0.69470249 0.69620889 0.68892794 0.68792368 0.69588147] 0.6927288918637509\n",
      "137: [0.69420035 0.69721316 0.68842581 0.68717047 0.69462582] 0.6923271215574278\n",
      "138: [0.69620889 0.69721316 0.68892794 0.68742154 0.69588147] 0.6931305991195883\n",
      "139: [0.69545569 0.69520462 0.68892794 0.68767261 0.69588147] 0.6926284650497916\n",
      "140: [0.69545569 0.69721316 0.68892794 0.68641727 0.69588147] 0.6927791052707306\n",
      "141: [0.69470249 0.69721316 0.68616621 0.6846598  0.69462582] 0.6914734936387734\n",
      "142: [0.69545569 0.69721316 0.68491087 0.68641727 0.69588147] 0.6919756907590559\n",
      "143: [0.69595782 0.69620889 0.68365554 0.68516194 0.69588147] 0.6913731298753\n",
      "144: [0.69545569 0.69671102 0.68365554 0.68491087 0.69588147] 0.6913229164683203\n",
      "145: [0.69595782 0.69570675 0.6831534  0.68591514 0.69462582] 0.6910717863829362\n",
      "146: [0.69796636 0.69620889 0.68440874 0.68666834 0.69588147] 0.6922267577939543\n",
      "147: [0.69620889 0.69620889 0.68591514 0.68666834 0.69462582] 0.6919254143015904\n",
      "148: [0.69671102 0.69545569 0.6846598  0.68993221 0.69462582] 0.6922769081504481\n",
      "149: [0.69696209 0.69545569 0.68717047 0.68742154 0.69638373] 0.6926787036769657\n",
      "150: [0.69696209 0.69545569 0.68516194 0.68792368 0.69462582] 0.6920258411155498\n",
      "151: [0.69595782 0.69369822 0.68591514 0.68742154 0.69462582] 0.6915237070457532\n",
      "152: [0.69570675 0.69545569 0.68817474 0.68917901 0.69462582] 0.6926284019993056\n",
      "153: [0.69620889 0.69369822 0.68717047 0.68742154 0.69462582] 0.6918249874876311\n",
      "154: [0.69620889 0.69545569 0.68691941 0.68792368 0.69462582] 0.6922266947434684\n",
      "155: [0.69369822 0.69219182 0.68717047 0.68742154 0.69462582] 0.6910215729759566\n",
      "156: [0.69420035 0.69369822 0.68616621 0.68717047 0.69462582] 0.6911722131968954\n",
      "157: [0.69394928 0.69369822 0.68717047 0.68742154 0.69462582] 0.6913730668248141\n",
      "158: [0.69244288 0.69645995 0.68767261 0.68892794 0.69462582] 0.6920258411155497\n",
      "159: [0.69495355 0.69394928 0.68742154 0.68742154 0.69462582] 0.6916743472666921\n",
      "160: [0.69244288 0.69394928 0.68792368 0.68742154 0.69588147] 0.691523770096239\n",
      "161: [0.69445142 0.69244288 0.68616621 0.68742154 0.69462582] 0.6910215729759565\n",
      "162: [0.69294502 0.69620889 0.69043435 0.68742154 0.69588147] 0.692578251642812\n",
      "163: [0.69344715 0.69244288 0.68792368 0.69068541 0.69638373] 0.692176569607169\n",
      "164: [0.69143861 0.69595782 0.68917901 0.69068541 0.69638373] 0.6927289170839452\n",
      "165: [0.69194075 0.69369822 0.69018328 0.69068541 0.69638373] 0.6925782768630062\n",
      "166: [0.69269395 0.69545569 0.68817474 0.69068541 0.69588147] 0.692578251642812\n",
      "167: [0.69244288 0.69219182 0.68792368 0.69043435 0.69588147] 0.6917748371311372\n",
      "168: [0.69294502 0.69394928 0.68817474 0.68892794 0.69588147] 0.6919756907590561\n",
      "169: [0.69294502 0.69495355 0.68742154 0.68892794 0.69588147] 0.6920259041660357\n",
      "170: [0.69294502 0.69545569 0.68817474 0.68917901 0.69738825] 0.6926285407103746\n",
      "171: [0.69495355 0.69394928 0.68767261 0.68742154 0.69738825] 0.6922770468615169\n",
      "172: [0.69495355 0.69394928 0.69043435 0.68943008 0.69738825] 0.6932311015941306\n",
      "173: [0.69420035 0.69495355 0.68917901 0.68767261 0.69638373] 0.692477850049047\n",
      "174: [0.69495355 0.69520462 0.68666834 0.68616621 0.69588147] 0.6917748371311372\n",
      "175: [0.69445142 0.69470249 0.68591514 0.68591514 0.69638373] 0.6914735819094536\n",
      "176: [0.69244288 0.69445142 0.68591514 0.68591514 0.69462582] 0.6906700791270989\n",
      "177: [0.69394928 0.69445142 0.68591514 0.68767261 0.69638373] 0.6916744355373723\n",
      "178: [0.69344715 0.69620889 0.68591514 0.68917901 0.69638373] 0.6922267830141487\n",
      "179: [0.69470249 0.69620889 0.68591514 0.68767261 0.69512808] 0.6919254395217849\n",
      "180: [0.69545569 0.69620889 0.68867688 0.68917901 0.69512808] 0.6929297076613781\n",
      "181: [0.69520462 0.69645995 0.68591514 0.68917901 0.69512808] 0.6923773601846018\n",
      "182: [0.69520462 0.69645995 0.68717047 0.68917901 0.69512808] 0.6926284272195001\n",
      "183: [0.69545569 0.69645995 0.68591514 0.68867688 0.69512808] 0.6923271467776222\n",
      "184: [0.69344715 0.69645995 0.68867688 0.68943008 0.69512808] 0.6926284272195\n",
      "185: [0.69369822 0.69645995 0.68817474 0.68892794 0.69512808] 0.692477786998561\n",
      "186: [0.69344715 0.69645995 0.68817474 0.69093648 0.69512808] 0.6928292808474188\n",
      "187: [0.69369822 0.69645995 0.68817474 0.68892794 0.69512808] 0.692477786998561\n",
      "188: [0.69369822 0.69645995 0.68817474 0.68641727 0.69512808] 0.6919756529287644\n",
      "189: [0.69344715 0.69645995 0.68817474 0.68717047 0.69512808] 0.6920760797427239\n",
      "190: [0.69344715 0.69645995 0.68591514 0.68717047 0.69512808] 0.6916241590799068\n",
      "191: [0.69545569 0.69470249 0.68591514 0.68717047 0.69512808] 0.6916743724868866\n",
      "192: [0.69344715 0.69645995 0.68591514 0.68717047 0.69512808] 0.6916241590799068\n",
      "193: [0.69545569 0.69470249 0.68591514 0.68691941 0.69512808] 0.6916241590799068\n",
      "194: [0.69570675 0.69520462 0.68591514 0.68792368 0.69512808] 0.6919756529287644\n",
      "195: [0.69570675 0.69470249 0.68666834 0.68867688 0.69512808] 0.6921765065566831\n",
      "196: [0.69545569 0.69520462 0.68666834 0.68792368 0.69512808] 0.6920760797427238\n",
      "197: [0.69520462 0.69520462 0.68666834 0.68792368 0.69512808] 0.6920258663357441\n",
      "198: [0.69545569 0.69394928 0.68943008 0.68842581 0.69512808] 0.692477786998561\n",
      "199: [0.69620889 0.69344715 0.68817474 0.68842581 0.69512808] 0.6922769333706424\n",
      "200: [0.69344715 0.69445142 0.68591514 0.68842581 0.69512808] 0.6914735188589678\n",
      "가장 좋은 n_neighbors 172\n"
     ]
    }
   ],
   "source": [
    "# 최적의 하이퍼 파라미터 찾기\n",
    "# lst = []\n",
    "# for i in range(1,1000):\n",
    "#     knn_model = KNeighborsClassifier(n_neighbors=i)\n",
    "#     knn_model.fit(X_train,y_train)\n",
    "#     pre = knn_model.predict(X_test)\n",
    "#     lst.append(accuracy_score(y_test, pre))\n",
    "# lst\n",
    "K_lst = []\n",
    "for k in range(1,201):\n",
    "    knn_model = KNeighborsClassifier(n_neighbors=k)\n",
    "    knn_result = cross_val_score(knn_model, X_train, y_train, cv=5)\n",
    "    print(f'{k}:', knn_result, knn_result.mean())\n",
    "    K_lst.append(knn_result.mean())\n",
    "print(f\"가장 좋은 n_neighbors {K_lst.index(max(K_lst))+1}\")"
   ]
  },
  {
   "cell_type": "code",
   "execution_count": 11,
   "id": "ad9108bf-7978-4cfa-b78c-10cbd8d1942d",
   "metadata": {},
   "outputs": [],
   "source": [
    "# max(lst)\n",
    "# # lst.index(max(lst))+1\n",
    "# # 다수의 최댓값 처리\n",
    "# [index for index, value in enumerate(lst) if value == max(lst)]"
   ]
  },
  {
   "cell_type": "code",
   "execution_count": 12,
   "id": "24acd978-0fd9-4d22-a43d-702e47974463",
   "metadata": {},
   "outputs": [
    {
     "data": {
      "image/png": "[encoded data removed]",
      "text/plain": [
       "<Figure size 640x480 with 1 Axes>"
      ]
     },
     "metadata": {},
     "output_type": "display_data"
    }
   ],
   "source": [
    "# 시각화\n",
    "# 추이 - 선그래프\n",
    "plt.plot(range(1,201), K_lst)\n",
    "plt.xlabel('n_neighbors')\n",
    "plt.xticks(range(1,201,11))\n",
    "plt.ylabel('cross acc mean')\n",
    "plt.grid()\n",
    "# plt.xlim(600,800)\n",
    "# plt.ylim(0.687,0.692)\n",
    "plt.show()"
   ]
  },
  {
   "cell_type": "markdown",
   "id": "ecf19eac-5ac1-4e3a-b1d1-d4087cb3b1d4",
   "metadata": {},
   "source": [
    "#### 최적의 하이퍼 파라미터 조합을 찾아보자!\n",
    " - GridSearchCV\n",
    " - 1. 모델에 연결할 파라미터의 조합을 정의\n",
    "   2. 임의로 연결할 모델 생성\n",
    "   3. 그리드서치 내부 파라미터 값들을 연결 - 그리드 객체 생성\n",
    "   4. 그리드서치 객체에 데이터를 연결하여 실행"
   ]
  },
  {
   "cell_type": "code",
   "execution_count": 14,
   "id": "bd7b74ec-59dd-46ff-8120-d14740457a3d",
   "metadata": {},
   "outputs": [],
   "source": [
    "# params = {'n_neighbors':range(1,1000)}\n",
    "# knn = KNeighborsClassifier()\n",
    "# grid = GridSearchCV(knn, params, cv=5, scoring='accuracy', n_jobs=-1, verbose=1)\n",
    "# grid.fit(X_train, y_train)\n",
    "# print(grid.best_params_)\n",
    "# print(grid.best_score_)"
   ]
  },
  {
   "cell_type": "code",
   "execution_count": null,
   "id": "038f9b17-43b3-42b0-9d3f-03ad9a5cb0cc",
   "metadata": {},
   "outputs": [],
   "source": []
  },
  {
   "cell_type": "code",
   "execution_count": 15,
   "id": "ee4ba49f-9fe7-413f-9f85-af3a89b7f9a6",
   "metadata": {},
   "outputs": [],
   "source": [
    "# 결측치 처리된 데이터 저장\n",
    "csv_file = './archive/example.csv'\n",
    "data1.to_csv(csv_file, index=False, encoding='utf-8')"
   ]
  }
 ],
 "metadata": {
  "kernelspec": {
   "display_name": "Python 3 (ipykernel)",
   "language": "python",
   "name": "python3"
  },
  "language_info": {
   "codemirror_mode": {
    "name": "ipython",
    "version": 3
   },
   "file_extension": ".py",
   "mimetype": "text/x-python",
   "name": "python",
   "nbconvert_exporter": "python",
   "pygments_lexer": "ipython3",
   "version": "3.12.4"
  }
 },
 "nbformat": 4,
 "nbformat_minor": 5
}
